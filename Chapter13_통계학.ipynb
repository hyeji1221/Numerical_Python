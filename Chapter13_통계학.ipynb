{
 "cells": [
  {
   "cell_type": "markdown",
   "id": "0fb63024",
   "metadata": {},
   "source": [
    "Python을 활용한 기본 통계 응용에 초점 맞추기 -> 기술 통계량, 랜덤 수, 확률 변수, 분포 및 가설 검정 계산 알아보기\n",
    "\n",
    "## 모듈 임포트하기\n",
    "주로 Scipy의 Stats 모듈로 작업"
   ]
  },
  {
   "cell_type": "code",
   "execution_count": 1,
   "id": "f8de8de2",
   "metadata": {},
   "outputs": [],
   "source": [
    "from scipy import stats\n",
    "from scipy import optimize\n",
    "import numpy as np\n",
    "import matplotlib.pyplot as plt\n",
    "import seaborn as sns\n",
    "sns.set(style=\"whitegrid\")"
   ]
  },
  {
   "cell_type": "markdown",
   "id": "f04e6512",
   "metadata": {},
   "source": [
    "## 통계 및 확률 리뷰\n",
    "**통계**: 통찰력을 얻고 결론을 도출하며 의사 결정을 뒷받침 할 목적으로 자료를 수집하고 분석하는 작업\n",
    "\n",
    "전체 모집단을 조사할 수 없을 때 랜덤으로 선택한 표본으로 연구 가능하며 기술 통계량을 계산해 전체 모집단의 속성을 오차 위험을 통제하면서 체계적으로 추론 가능"
   ]
  },
  {
   "cell_type": "code",
   "execution_count": 2,
   "id": "207c4fb5",
   "metadata": {},
   "outputs": [
    {
     "data": {
      "text/plain": [
       "3.1"
      ]
     },
     "execution_count": 2,
     "metadata": {},
     "output_type": "execute_result"
    }
   ],
   "source": [
    "x = np.array([3.5, 1.1, 3.2, 2.8, 6.7, 4.4, 0.9, 2.2])\n",
    "np.mean(x) # 평균"
   ]
  },
  {
   "cell_type": "code",
   "execution_count": 3,
   "id": "b1d32a99",
   "metadata": {},
   "outputs": [
    {
     "data": {
      "text/plain": [
       "3.0"
      ]
     },
     "execution_count": 3,
     "metadata": {},
     "output_type": "execute_result"
    }
   ],
   "source": [
    "np.median(x) # 중앙값"
   ]
  },
  {
   "cell_type": "code",
   "execution_count": 4,
   "id": "ff40c227",
   "metadata": {},
   "outputs": [
    {
     "data": {
      "text/plain": [
       "(0.9, 6.7)"
      ]
     },
     "execution_count": 4,
     "metadata": {},
     "output_type": "execute_result"
    }
   ],
   "source": [
    "x.min(), x.max()"
   ]
  },
  {
   "cell_type": "code",
   "execution_count": 5,
   "id": "0fb8566d",
   "metadata": {},
   "outputs": [
    {
     "data": {
      "text/plain": [
       "(3.0700000000000007, 1.7521415467935233)"
      ]
     },
     "execution_count": 5,
     "metadata": {},
     "output_type": "execute_result"
    }
   ],
   "source": [
    "x.var(), x.std() # 분산, 표준편차"
   ]
  },
  {
   "cell_type": "code",
   "execution_count": 6,
   "id": "2d192271",
   "metadata": {},
   "outputs": [
    {
     "data": {
      "text/plain": [
       "(3.5085714285714293, 1.8731181032095732)"
      ]
     },
     "execution_count": 6,
     "metadata": {},
     "output_type": "execute_result"
    }
   ],
   "source": [
    "# 표본의 분산과 표준편차의 불편 추정값을 계산하려면 ddof = 1\n",
    "x.var(ddof=1), x.std(ddof=1)"
   ]
  },
  {
   "cell_type": "markdown",
   "id": "977168e9",
   "metadata": {},
   "source": [
    "### 랜덤 수"
   ]
  },
  {
   "cell_type": "code",
   "execution_count": 7,
   "id": "390b4667",
   "metadata": {},
   "outputs": [
    {
     "data": {
      "text/plain": [
       "0.563992573460956"
      ]
     },
     "execution_count": 7,
     "metadata": {},
     "output_type": "execute_result"
    }
   ],
   "source": [
    "np.random.rand() # 0 ~1 사이의 균일 분포된 부동소수점 수치 생성"
   ]
  },
  {
   "cell_type": "code",
   "execution_count": 8,
   "id": "2561b7d0",
   "metadata": {},
   "outputs": [
    {
     "data": {
      "text/plain": [
       "0.7259795772310356"
      ]
     },
     "execution_count": 8,
     "metadata": {},
     "output_type": "execute_result"
    }
   ],
   "source": [
    "np.random.randn() # 평균 정규 분포를 따르는 랜덤 수"
   ]
  },
  {
   "cell_type": "code",
   "execution_count": 9,
   "id": "5d7d5024",
   "metadata": {},
   "outputs": [
    {
     "data": {
      "text/plain": [
       "array([0.30004213, 0.74207092, 0.91815636, 0.44769131, 0.31750953])"
      ]
     },
     "execution_count": 9,
     "metadata": {},
     "output_type": "execute_result"
    }
   ],
   "source": [
    "# 랜덤 수의 배열 만들기\n",
    "np.random.rand(5) # 길이 5"
   ]
  },
  {
   "cell_type": "code",
   "execution_count": 10,
   "id": "faca67ad",
   "metadata": {},
   "outputs": [
    {
     "data": {
      "text/plain": [
       "array([[0.3229027 , 0.03317915, 0.77471511, 0.23667876],\n",
       "       [0.58998465, 0.78082783, 0.67155442, 0.47202317]])"
      ]
     },
     "execution_count": 10,
     "metadata": {},
     "output_type": "execute_result"
    }
   ],
   "source": [
    "np.random.rand(2, 4) # 2 * 4 배열 생성"
   ]
  },
  {
   "cell_type": "code",
   "execution_count": 11,
   "id": "be256166",
   "metadata": {},
   "outputs": [
    {
     "data": {
      "text/plain": [
       "array([3, 7, 9, 2, 4, 8, 7, 3, 9, 8])"
      ]
     },
     "execution_count": 11,
     "metadata": {},
     "output_type": "execute_result"
    }
   ],
   "source": [
    "np.random.randint(10, size=10) # 상한, 크기"
   ]
  },
  {
   "cell_type": "code",
   "execution_count": 12,
   "id": "c1d66b65",
   "metadata": {},
   "outputs": [
    {
     "data": {
      "text/plain": [
       "array([[10, 13, 10, 12, 13, 10, 11, 18, 19, 18],\n",
       "       [16, 19, 17, 14, 17, 14, 18, 18, 14, 15]])"
      ]
     },
     "execution_count": 12,
     "metadata": {},
     "output_type": "execute_result"
    }
   ],
   "source": [
    "np.random.randint(low=10, high=20, size=(2, 10))"
   ]
  },
  {
   "cell_type": "markdown",
   "id": "d5e57e13",
   "metadata": {},
   "source": [
    "- rand, randint: 분포는 균일해 보이지만 다른 범위와 유형을 가짐\n",
    "- randn: 0을 중심으로 한 가우스 곡선과 유사"
   ]
  },
  {
   "cell_type": "code",
   "execution_count": 13,
   "id": "6c46f12d",
   "metadata": {},
   "outputs": [
    {
     "data": {
      "image/png": "[encoded data removed]",
      "text/plain": [
       "<Figure size 864x216 with 3 Axes>"
      ]
     },
     "metadata": {},
     "output_type": "display_data"
    }
   ],
   "source": [
    "fig, axes = plt.subplots(1, 3, figsize=(12, 3))\n",
    "\n",
    "axes[0].hist(np.random.rand(10000))\n",
    "axes[0].set_title(\"rand\")\n",
    "axes[1].hist(np.random.randn(10000))\n",
    "axes[1].set_title(\"randn\")\n",
    "axes[2].hist(np.random.randint(low=1, high=10, size=10000), bins=9, align='left')\n",
    "axes[2].set_title(\"randint(low=1, high=10)\")\n",
    "\n",
    "fig.tight_layout()"
   ]
  },
  {
   "cell_type": "code",
   "execution_count": 14,
   "id": "2b39959f",
   "metadata": {},
   "outputs": [
    {
     "data": {
      "text/plain": [
       "array([7, 8, 5, 6, 3])"
      ]
     },
     "execution_count": 14,
     "metadata": {},
     "output_type": "execute_result"
    }
   ],
   "source": [
    "np.random.choice(10, 5, replace=False) # replace: 표본 추출에서 복원을 동반할지 여부 지정"
   ]
  },
  {
   "cell_type": "markdown",
   "id": "3b258cc5",
   "metadata": {},
   "source": [
    "시드: 랜덤 수 발생기를 특정 상태로 초기화하는 숫자로 특정 숫자로 시딩하면 항상 동일한 랜덤 수 생성"
   ]
  },
  {
   "cell_type": "code",
   "execution_count": 15,
   "id": "4c48dabc",
   "metadata": {},
   "outputs": [
    {
     "data": {
      "text/plain": [
       "0.532833024789759"
      ]
     },
     "execution_count": 15,
     "metadata": {},
     "output_type": "execute_result"
    }
   ],
   "source": [
    "np.random.seed(123456789)\n",
    "np.random.rand()"
   ]
  },
  {
   "cell_type": "code",
   "execution_count": 16,
   "id": "57185d41",
   "metadata": {},
   "outputs": [
    {
     "data": {
      "text/plain": [
       "array([[ 2.212902  ,  2.1283978 ,  1.8417114 ,  0.08238248],\n",
       "       [ 0.85896368, -0.82601643,  1.15727052,  1.37591514]])"
      ]
     },
     "execution_count": 16,
     "metadata": {},
     "output_type": "execute_result"
    }
   ],
   "source": [
    "# RandomState 클래스는 선택적으로 초기화를 위한 시드 인수를 정수로 취함\n",
    "prng = np.random.RandomState(123456789)\n",
    "prng.randn(2, 4) # 정규 분포를 따르는 랜덤 수 생성"
   ]
  },
  {
   "cell_type": "markdown",
   "id": "614f28cd",
   "metadata": {},
   "source": [
    "통계에서 발생하는 많은 확률 분포를 따르는 함수 또는 RandomState \n",
    "- x<sup>2</sup> 분포 (chisquare)\n",
    "- 스튜던트-t 분포\n",
    "- F 분포"
   ]
  },
  {
   "cell_type": "code",
   "execution_count": 17,
   "id": "cafc530e",
   "metadata": {},
   "outputs": [
    {
     "data": {
      "text/plain": [
       "array([[1.26859720e+00, 2.02731988e+00],\n",
       "       [2.52605129e-05, 3.00376585e-04]])"
      ]
     },
     "execution_count": 17,
     "metadata": {},
     "output_type": "execute_result"
    }
   ],
   "source": [
    "prng.chisquare(1, size=(2, 2))"
   ]
  },
  {
   "cell_type": "code",
   "execution_count": 18,
   "id": "e4aec16a",
   "metadata": {},
   "outputs": [
    {
     "data": {
      "text/plain": [
       "array([[ 0.59734384, -1.27669959,  0.09724793],\n",
       "       [ 0.22451466,  0.39697518, -0.19469463]])"
      ]
     },
     "execution_count": 18,
     "metadata": {},
     "output_type": "execute_result"
    }
   ],
   "source": [
    "prng.standard_t(1, size=(2, 3))"
   ]
  },
  {
   "cell_type": "code",
   "execution_count": 19,
   "id": "9d881434",
   "metadata": {},
   "outputs": [
    {
     "data": {
      "text/plain": [
       "array([[ 0.77372119,  0.1213796 ,  1.64779052,  1.21399831],\n",
       "       [ 0.45471421, 17.64891848,  1.48620557,  2.55433261]])"
      ]
     },
     "execution_count": 19,
     "metadata": {},
     "output_type": "execute_result"
    }
   ],
   "source": [
    "prng.f(5, 2, size=(2, 4))"
   ]
  },
  {
   "cell_type": "code",
   "execution_count": 20,
   "id": "d5d79e0d",
   "metadata": {},
   "outputs": [
    {
     "data": {
      "text/plain": [
       "array([8, 3, 4, 2, 4, 5, 4, 4, 7, 5])"
      ]
     },
     "execution_count": 20,
     "metadata": {},
     "output_type": "execute_result"
    }
   ],
   "source": [
    "prng.binomial(10, 0.5, size=10) # 이산 이항 분포"
   ]
  },
  {
   "cell_type": "code",
   "execution_count": 21,
   "id": "9da73f2b",
   "metadata": {},
   "outputs": [
    {
     "data": {
      "text/plain": [
       "array([7, 1, 3, 4, 6, 4, 9, 7, 3, 6])"
      ]
     },
     "execution_count": 21,
     "metadata": {},
     "output_type": "execute_result"
    }
   ],
   "source": [
    "prng.poisson(5, size=10) # 푸아송 분포"
   ]
  },
  {
   "cell_type": "markdown",
   "id": "c16c4258",
   "metadata": {},
   "source": [
    "## 확률 변수 및 분포\n",
    "**확률 분포 기본 클래스**\n",
    "- 이산형 분포 : rv_discrete\n",
    "- 연속형 분포 : rv_instaluous\n",
    "\n",
    "**Scipy의 stats모듈의 확률 변수 클래스**\n",
    "- 기술 통계량 계산이나 그래프 작성에 사용할 수 있는 분포를 나타냄\n",
    "- rvs 메서드를 사용해 주어진 분포를 따르는 랜덤 수 생성"
   ]
  },
  {
   "cell_type": "code",
   "execution_count": 22,
   "id": "9f562729",
   "metadata": {},
   "outputs": [],
   "source": [
    "# 평균이 1.0, 표준편차가 0.5인 정규분포 확률 변수 생성\n",
    "X = stats.norm(1, 0.5)"
   ]
  },
  {
   "cell_type": "code",
   "execution_count": 23,
   "id": "b14386fc",
   "metadata": {},
   "outputs": [
    {
     "data": {
      "text/plain": [
       "1.0"
      ]
     },
     "execution_count": 23,
     "metadata": {},
     "output_type": "execute_result"
    }
   ],
   "source": [
    "# 확률 변수의 기술 통계량 계산\n",
    "X.mean()"
   ]
  },
  {
   "cell_type": "code",
   "execution_count": 24,
   "id": "c69e1826",
   "metadata": {},
   "outputs": [
    {
     "data": {
      "text/plain": [
       "1.0"
      ]
     },
     "execution_count": 24,
     "metadata": {},
     "output_type": "execute_result"
    }
   ],
   "source": [
    "X.median()"
   ]
  },
  {
   "cell_type": "code",
   "execution_count": 25,
   "id": "3ee87f26",
   "metadata": {},
   "outputs": [
    {
     "data": {
      "text/plain": [
       "0.5"
      ]
     },
     "execution_count": 25,
     "metadata": {},
     "output_type": "execute_result"
    }
   ],
   "source": [
    "X.std()"
   ]
  },
  {
   "cell_type": "code",
   "execution_count": 26,
   "id": "e0fcd011",
   "metadata": {},
   "outputs": [
    {
     "data": {
      "text/plain": [
       "0.25"
      ]
     },
     "execution_count": 26,
     "metadata": {},
     "output_type": "execute_result"
    }
   ],
   "source": [
    "X.var()"
   ]
  },
  {
   "cell_type": "code",
   "execution_count": 27,
   "id": "e114a94a",
   "metadata": {},
   "outputs": [
    {
     "data": {
      "text/plain": [
       "[1.0, 1.0, 1.25, 1.75, 2.6875]"
      ]
     },
     "execution_count": 27,
     "metadata": {},
     "output_type": "execute_result"
    }
   ],
   "source": [
    "# 임의 차수의 비중심 모멘트\n",
    "[X.moment(n) for n in range(5)]"
   ]
  },
  {
   "cell_type": "code",
   "execution_count": 28,
   "id": "e0bd97d7",
   "metadata": {},
   "outputs": [
    {
     "data": {
      "text/plain": [
       "(array(1.), array(0.25))"
      ]
     },
     "execution_count": 28,
     "metadata": {},
     "output_type": "execute_result"
    }
   ],
   "source": [
    "# 분포-종속 통계량 리스트 (정규분포 확률 변수에 대한 평균과 분산)\n",
    "X.stats()"
   ]
  },
  {
   "cell_type": "markdown",
   "id": "af4e1bb8",
   "metadata": {},
   "source": [
    "pdf: 확률 분포 함수   \n",
    "cdf: 누적 분포 함수   \n",
    "sf: 생존 함수"
   ]
  },
  {
   "cell_type": "code",
   "execution_count": 29,
   "id": "539e80b7",
   "metadata": {},
   "outputs": [
    {
     "data": {
      "text/plain": [
       "array([0.10798193, 0.79788456, 0.10798193])"
      ]
     },
     "execution_count": 29,
     "metadata": {},
     "output_type": "execute_result"
    }
   ],
   "source": [
    "X.pdf([0, 1, 2])"
   ]
  },
  {
   "cell_type": "code",
   "execution_count": 30,
   "id": "42f3df5b",
   "metadata": {},
   "outputs": [
    {
     "data": {
      "text/plain": [
       "array([0.02275013, 0.5       , 0.97724987])"
      ]
     },
     "execution_count": 30,
     "metadata": {},
     "output_type": "execute_result"
    }
   ],
   "source": [
    "X.cdf([0, 1, 2])"
   ]
  },
  {
   "cell_type": "markdown",
   "id": "db2812d8",
   "metadata": {},
   "source": [
    "**interval**: 확률 분포 지정 비율의 하한과 상한값 계산하는데 사용 -> 신뢰 구간 계산과 도식화를 위한 x값의 범위 선택하는데 유용"
   ]
  },
  {
   "cell_type": "code",
   "execution_count": 31,
   "id": "0c7841b3",
   "metadata": {},
   "outputs": [
    {
     "data": {
      "text/plain": [
       "(0.020018007729972975, 1.979981992270027)"
      ]
     },
     "execution_count": 31,
     "metadata": {},
     "output_type": "execute_result"
    }
   ],
   "source": [
    "X.interval(0.95)"
   ]
  },
  {
   "cell_type": "code",
   "execution_count": 32,
   "id": "41e791d1",
   "metadata": {},
   "outputs": [
    {
     "data": {
      "text/plain": [
       "(-0.2879146517744502, 2.28791465177445)"
      ]
     },
     "execution_count": 32,
     "metadata": {},
     "output_type": "execute_result"
    }
   ],
   "source": [
    "X.interval(0.99)"
   ]
  },
  {
   "cell_type": "code",
   "execution_count": 33,
   "id": "bafa5e3b",
   "metadata": {},
   "outputs": [],
   "source": [
    "# 확률 분포 함수의 99.9%를 포함하는 구간에서 stats 객체의 pdf, pnf, cdf, ppf 결과 도식화하는 함수\n",
    "def plot_rv_distribution(X, axes=None):\n",
    "    if axes is None:\n",
    "        fig, axes = plt.subplots(1, 3, figsize=(12, 3))\n",
    "    \n",
    "    x_min_999, x_max_999 = X.interval(0.999)\n",
    "    x999 = np.linspace(x_min_999, x_max_999, 1000)\n",
    "\n",
    "    x_min_95, x_max_95 = X.interval(0.95)\n",
    "    x95 = np.linspace(x_min_95, x_max_95, 1000)\n",
    "\n",
    "    if hasattr(X.dist, 'pdf'):\n",
    "        axes[0].plot(x999, X.pdf(x999), label=\"PDF\")\n",
    "        axes[0].fill_between(x95, X.pdf(x95), alpha=0.25) # 확률 분포의 95% 포함하는 구간 강조 표시\n",
    "    else:\n",
    "        x999_int = np.unique(x999.astype(int))\n",
    "        axes[0].bar(x999_int, X.pmf(x999_int), label=\"PMF\")\n",
    "    axes[1].plot(x999, X.cdf(x999), label=\"CDF\")\n",
    "    axes[1].plot(x999, X.sf(x999), label=\"SF\")\n",
    "    axes[2].plot(x999, X.ppf(x999), label=\"PPF\")\n",
    "    \n",
    "    for ax in axes:\n",
    "        ax.legend()\n",
    "    \n",
    "    return axes"
   ]
  },
  {
   "cell_type": "code",
   "execution_count": 34,
   "id": "efd7e5f1",
   "metadata": {},
   "outputs": [
    {
     "data": {
      "image/png": "[encoded data removed]",
      "text/plain": [
       "<Figure size 864x648 with 9 Axes>"
      ]
     },
     "metadata": {},
     "output_type": "display_data"
    }
   ],
   "source": [
    "fig, axes = plt.subplots(3, 3, figsize=(12, 9))\n",
    "\n",
    "X = stats.norm() # 정규분포\n",
    "plot_rv_distribution(X, axes=axes[0, :])\n",
    "axes[0, 0].set_ylabel(\"Normal dist.\")\n",
    "X = stats.f(2, 50) # f 분포\n",
    "plot_rv_distribution(X, axes=axes[1, :])\n",
    "axes[1, 0].set_ylabel(\"F dist.\")\n",
    "X = stats.poisson(5) # 포아송 분포\n",
    "plot_rv_distribution(X, axes=axes[2, :])\n",
    "axes[2, 0].set_ylabel(\"Poisson dist.\")\n",
    "\n",
    "fig.tight_layout()"
   ]
  },
  {
   "cell_type": "markdown",
   "id": "8041457d",
   "metadata": {},
   "source": [
    "지금까지는 메서드 호출을 통해 인스턴스를 시작하고 통계량을 계산   \n",
    "stats 모듈의 확률 변수 클래스를 사용하는 또 다른 방법은 클래스 메서드를 사용하고 분포 매개변수를 인수로 전달하는 것"
   ]
  },
  {
   "cell_type": "code",
   "execution_count": 35,
   "id": "3bb87d6e",
   "metadata": {},
   "outputs": [
    {
     "data": {
      "text/plain": [
       "(array(2.), array(0.25))"
      ]
     },
     "execution_count": 35,
     "metadata": {},
     "output_type": "execute_result"
    }
   ],
   "source": [
    "stats.norm.stats(loc=2, scale=0.5)"
   ]
  },
  {
   "cell_type": "code",
   "execution_count": 36,
   "id": "4dd02cb3",
   "metadata": {},
   "outputs": [
    {
     "data": {
      "text/plain": [
       "(array(1.), array(0.25))"
      ]
     },
     "execution_count": 36,
     "metadata": {},
     "output_type": "execute_result"
    }
   ],
   "source": [
    "# 위와 동일한 결과로 클래스 인스턴스를 먼저 만들고 해당 메서드 호출\n",
    "stats.norm(loc=1, scale=0.5).stats()"
   ]
  },
  {
   "cell_type": "code",
   "execution_count": 37,
   "id": "32c3efb2",
   "metadata": {},
   "outputs": [
    {
     "data": {
      "text/plain": [
       "array([1.43841711, 2.56662976, 0.50437638, 1.43558405, 1.24249875,\n",
       "       1.15962805, 1.2265658 , 0.54154384, 1.66932021, 1.42933398])"
      ]
     },
     "execution_count": 37,
     "metadata": {},
     "output_type": "execute_result"
    }
   ],
   "source": [
    "# 주어진 확률 분포에 따라 분포하는 랜덤 수를 추출하려면 rvs 메서드 사용\n",
    "X = stats.norm(1, 0.5)\n",
    "X.rvs(10)"
   ]
  },
  {
   "cell_type": "markdown",
   "id": "72411a6d",
   "metadata": {},
   "source": [
    "결과 랜덤 수가 실제로 해당 확률 분포에 따라 분포하는지 알아보기 위해 확률 변수 상당수의 표본을 히스토그램으로 표시하고 확률 분포 함수와 비교"
   ]
  },
  {
   "cell_type": "code",
   "execution_count": 38,
   "id": "0580ff65",
   "metadata": {},
   "outputs": [],
   "source": [
    "def plot_dist_samples(X, X_samples, title=None, ax=None):\n",
    "    if ax is None:\n",
    "        fig, ax = plt.subplots(1, 1, figsize=(8, 4))\n",
    "\n",
    "    x_lim = X.interval(.99)\n",
    "    x = np.linspace(*x_lim, num=100)\n",
    "\n",
    "    ax.plot(x, X.pdf(x), label=\"PDF\", lw=3)    \n",
    "    ax.hist(X_samples, label=\"samples\", density=1, bins=75)\n",
    "    ax.set_xlim(*x_lim)\n",
    "    ax.legend()\n",
    "    \n",
    "    if title:\n",
    "        ax.set_title(title)\n",
    "    return ax"
   ]
  },
  {
   "cell_type": "code",
   "execution_count": 39,
   "id": "0d9118fe",
   "metadata": {},
   "outputs": [
    {
     "data": {
      "image/png": "[encoded data removed]",
      "text/plain": [
       "<Figure size 864x216 with 3 Axes>"
      ]
     },
     "metadata": {},
     "output_type": "display_data"
    }
   ],
   "source": [
    "fig, axes = plt.subplots(1, 3, figsize=(12, 3))\n",
    "X = stats.t(7.0) # 스튜던트-t 분포\n",
    "plot_dist_samples(X, X.rvs(2000), \"Student's t dist.\", ax=axes[0])\n",
    "X = stats.chi2(5.0) # 카이-제곱 분포\n",
    "plot_dist_samples(X, X.rvs(2000), r\"$\\chi^2$ dist.\", ax=axes[1])\n",
    "X = stats.expon(0.5) # 지수 분포\n",
    "plot_dist_samples(X, X.rvs(2000), \"exponential dist.\", ax=axes[2])\n",
    "fig.tight_layout()"
   ]
  },
  {
   "cell_type": "markdown",
   "id": "4d1a8774",
   "metadata": {},
   "source": [
    "자유도가 5인 x<sup>2</sup> 분포에서 500개 랜덤 표본 추출 후 fit 메서드를 사용해 확률 변수 x<sup>2</sup> 분포에 재적합화하기"
   ]
  },
  {
   "cell_type": "code",
   "execution_count": 40,
   "id": "79a33248",
   "metadata": {},
   "outputs": [
    {
     "data": {
      "text/plain": [
       "(4.528531755581526, 0.1453941955212967, 1.1094036952339144)"
      ]
     },
     "execution_count": 40,
     "metadata": {},
     "output_type": "execute_result"
    }
   ],
   "source": [
    "X = stats.chi2(df=5)\n",
    "X_samples = X.rvs(500)\n",
    "df, loc, scale = stats.chi2.fit(X_samples) # fit 메서드는 주어진 데이터로 분포의 최대 우도 매개변수를 반환\n",
    "df, loc, scale"
   ]
  },
  {
   "cell_type": "code",
   "execution_count": 41,
   "id": "17a16bc8",
   "metadata": {},
   "outputs": [],
   "source": [
    "Y = stats.chi2(df=df, loc=loc, scale=scale)"
   ]
  },
  {
   "cell_type": "markdown",
   "id": "ec109c4b",
   "metadata": {},
   "source": [
    "최대 우도 매개변수를 stats.chi2의 초기화로 전달하여 생성한 Y는 X의 확률 분포와 유사해야함 -> 이를 검증하기 위해 두 확률 변수에 대한 확률 분포 함수 표기"
   ]
  },
  {
   "cell_type": "code",
   "execution_count": 43,
   "id": "15b427a4",
   "metadata": {},
   "outputs": [
    {
     "data": {
      "image/png": "[encoded data removed]",
      "text/plain": [
       "<Figure size 864x288 with 2 Axes>"
      ]
     },
     "metadata": {},
     "output_type": "display_data"
    }
   ],
   "source": [
    "fig, ax = plt.subplots(1, 2, figsize=(12, 4))\n",
    "\n",
    "x_lim = X.interval(.99)\n",
    "x = np.linspace(*x_lim, num=100)\n",
    "\n",
    "ax[0].plot(x, X.pdf(x), label=\"original\")\n",
    "ax[0].plot(x, Y.pdf(x), label=\"recreated\")\n",
    "ax[0].legend()\n",
    "\n",
    "ax[1].plot(x, X.pdf(x) - Y.pdf(x), label=\"error\")\n",
    "ax[1].legend()\n",
    "\n",
    "fig.tight_layout()"
   ]
  },
  {
   "cell_type": "markdown",
   "id": "b0606ab1",
   "metadata": {},
   "source": [
    "## 가설 검정\n"
   ]
  },
  {
   "cell_type": "markdown",
   "id": "afc68f06",
   "metadata": {},
   "source": [
    "**가설 검정**: 가설의 타당성 여부를 데이터에 기초해 평가하는 체계적인 방법론이자 통계학의 중요한 응용    \n",
    "**귀무가설**과 **대립 가설**은 반드시 상호 배타적이고 상호 보완적이어야 하므로 둘 중 하나만이 진실\n",
    "귀무 가설과 대립 가설이 정의된다면\n",
    "1. 데이터 수집\n",
    "2. 귀무 가설에서 확률 분포 함수를 찾을 수 있는 검정 통계량 찾기\n",
    "3. 검정 통계량의 관측값이 얻어질 확률(p-value)을 계산해 데이터 평가\n",
    "    -> p-value가 임곗값보다 작으면 귀무 가설 분포에 의해 기술됐을 가능성이 낮다고 결론 -> 대립 가설을 받아들이고 귀무 가설 기각\n",
    "    \n",
    "**가설 검정의 두 가지 유형의 오류**\n",
    "1. 제 1형 오류: 기각돼서는 안되는 귀무 가설을 잘못 기각\n",
    "2. 제 2형 오류: 귀무 가설이 기각돼야 하지만 오류로 인해 기각 되지 않은 경우\n",
    "\n",
    "아래 예시는 확률 변수 X의 평균이 1이라고 주장하는 귀무 가설을 고려하기   \n",
    "여기서는 귀무 가설에서 주장하는 것과 약간 다른 분포에서 100개의 랜덤 표본 추출하여 표본 시뮬레이션"
   ]
  },
  {
   "cell_type": "code",
   "execution_count": 63,
   "id": "e833eba9",
   "metadata": {},
   "outputs": [],
   "source": [
    "mu0, mu, sigma = 1.0, 0.8, 0.5\n",
    "X = stats.norm(mu, sigma)\n",
    "n = 100\n",
    "X_samples = X.rvs(n)"
   ]
  },
  {
   "cell_type": "code",
   "execution_count": 64,
   "id": "dd680687",
   "metadata": {},
   "outputs": [
    {
     "data": {
      "text/plain": [
       "-2.517134174164366"
      ]
     },
     "execution_count": 64,
     "metadata": {},
     "output_type": "execute_result"
    }
   ],
   "source": [
    "# X_samples의 검정 통계량 계산\n",
    "# 모집단의 표준편차를 알고있다면 정규분포 식 사용\n",
    "z = (X_samples.mean() - mu0)/(sigma/np.sqrt(n))\n",
    "z"
   ]
  },
  {
   "cell_type": "code",
   "execution_count": 65,
   "id": "c49ab52f",
   "metadata": {},
   "outputs": [
    {
     "data": {
      "text/plain": [
       "-2.553694879677088"
      ]
     },
     "execution_count": 65,
     "metadata": {},
     "output_type": "execute_result"
    }
   ],
   "source": [
    "# 모집단의 분산을 알 수 없다면 표본 표준편차를 대신 사용 -> 대신 검정통계량 t는 정규 분포가 아닌 스튜던트-t 분포를 따름\n",
    "t = (X_samples.mean() - mu0)/(X_samples.std(ddof=1)/np.sqrt(n))\n",
    "t"
   ]
  },
  {
   "cell_type": "code",
   "execution_count": 66,
   "id": "1de3e27f",
   "metadata": {},
   "outputs": [
    {
     "data": {
      "text/plain": [
       "-1.9599639845400545"
      ]
     },
     "execution_count": 66,
     "metadata": {},
     "output_type": "execute_result"
    }
   ],
   "source": [
    "# 위의 관측 통계량이 유의 수준 5%의 임곗값 -1.96보다 작으므로 귀무 가설을 기각할 충분한 근거가 됨\n",
    "stats.norm().ppf(0.025)"
   ]
  },
  {
   "cell_type": "code",
   "execution_count": 67,
   "id": "b3157ff2",
   "metadata": {},
   "outputs": [
    {
     "data": {
      "text/plain": [
       "0.011831376357847031"
      ]
     },
     "execution_count": 67,
     "metadata": {},
     "output_type": "execute_result"
    }
   ],
   "source": [
    "# cdf 메서드를 사용해 p-값을 명시적으로 계산\n",
    "2 * stats.norm().cdf(-abs(z))"
   ]
  },
  {
   "cell_type": "code",
   "execution_count": 68,
   "id": "fa75f9eb",
   "metadata": {},
   "outputs": [
    {
     "data": {
      "text/plain": [
       "0.012183881436738316"
      ]
     },
     "execution_count": 68,
     "metadata": {},
     "output_type": "execute_result"
    }
   ],
   "source": [
    "# t 분포 사용 -> 여기서도 p-값이 매우 작아 귀무 가설 기각\n",
    "2 * stats.t(df=(n-1)).cdf(-abs(t))"
   ]
  },
  {
   "cell_type": "code",
   "execution_count": 69,
   "id": "432e86bd",
   "metadata": {},
   "outputs": [
    {
     "data": {
      "text/plain": [
       "1.5044040582150233"
      ]
     },
     "execution_count": 69,
     "metadata": {},
     "output_type": "execute_result"
    }
   ],
   "source": [
    "# 위의 과정을 Scipy의 stats 모듈을 이용해 검정 통계량과 p-값 바로 계산 가능\n",
    "t, p = stats.ttest_1samp(X_samples, mu)\n",
    "t"
   ]
  },
  {
   "cell_type": "code",
   "execution_count": 70,
   "id": "1aa14033",
   "metadata": {},
   "outputs": [
    {
     "data": {
      "text/plain": [
       "0.13566105599519857"
      ]
     },
     "execution_count": 70,
     "metadata": {},
     "output_type": "execute_result"
    }
   ],
   "source": [
    "p"
   ]
  },
  {
   "cell_type": "code",
   "execution_count": 71,
   "id": "d4493db0",
   "metadata": {},
   "outputs": [
    {
     "name": "stderr",
     "output_type": "stream",
     "text": [
      "C:\\Users\\lhg26\\Anaconda3\\lib\\site-packages\\seaborn\\distributions.py:2619: FutureWarning: `distplot` is a deprecated function and will be removed in a future version. Please adapt your code to use either `displot` (a figure-level function with similar flexibility) or `histplot` (an axes-level function for histograms).\n",
      "  warnings.warn(msg, FutureWarning)\n"
     ]
    },
    {
     "data": {
      "image/png": "[encoded data removed]",
      "text/plain": [
       "<Figure size 576x216 with 1 Axes>"
      ]
     },
     "metadata": {},
     "output_type": "display_data"
    }
   ],
   "source": [
    "# 귀무 가설에 해당하는 분포를 표본 데이터와 함께 표시하기\n",
    "fig, ax = plt.subplots(figsize=(8, 3))\n",
    "\n",
    "sns.distplot(X_samples, ax=ax)\n",
    "x = np.linspace(*X.interval(0.999), num=100)\n",
    "ax.plot(x, stats.norm(loc=mu, scale=sigma).pdf(x))\n",
    "\n",
    "fig.tight_layout()"
   ]
  },
  {
   "cell_type": "markdown",
   "id": "b57492ba",
   "metadata": {},
   "source": [
    "또 다른 예로 2개의 확률 변수의 모집단 평균이 동일하다는 귀무 가설에 대한 2-변수 문제 살펴보기   \n",
    "-> 이러한 유형의 검정은 두 확률 변수를 정규 분포로부터 임의로 고른 모집단 평균에서 추출하여 시뮬레이션 가능"
   ]
  },
  {
   "cell_type": "code",
   "execution_count": 75,
   "id": "bd5cedef",
   "metadata": {},
   "outputs": [],
   "source": [
    "# 확률 변수별로 50개의 표본 선택하기\n",
    "n,sigma = 50, 1.0\n",
    "mu1, mu2 = np.random.rand(2)\n",
    "X1 = stats.norm(mu1, sigma)\n",
    "X1_sample = X1.rvs(n)\n",
    "X2 = stats.norm(mu2, sigma)\n",
    "X2_sample = X2.rvs(n)"
   ]
  },
  {
   "cell_type": "code",
   "execution_count": 76,
   "id": "1994b4b6",
   "metadata": {},
   "outputs": [
    {
     "name": "stdout",
     "output_type": "stream",
     "text": [
      "4.159179688426205 6.853597178246097e-05\n"
     ]
    }
   ],
   "source": [
    "# stats.text_ind를 사용해 두 독립 표본의 t-검정 수행\n",
    "t, p = stats.ttest_ind(X1_sample, X2_sample)\n",
    "print(t, p)"
   ]
  },
  {
   "cell_type": "markdown",
   "id": "3b9762d7",
   "metadata": {},
   "source": [
    "위의 결과 p-값은 귀무 가설을 기각하고 두 모집단 평균이 다르다고 판단할 수 있을 만큼 작지 않음   \n",
    "이 예에서 두 모집단의 평균이 다름"
   ]
  },
  {
   "cell_type": "code",
   "execution_count": 77,
   "id": "19944eb5",
   "metadata": {},
   "outputs": [
    {
     "data": {
      "text/plain": [
       "(0.9752488719173192, 0.24670384862275396)"
      ]
     },
     "execution_count": 77,
     "metadata": {},
     "output_type": "execute_result"
    }
   ],
   "source": [
    "mu1, mu2"
   ]
  },
  {
   "cell_type": "markdown",
   "id": "eae3c060",
   "metadata": {},
   "source": [
    "그러나 이 분포에서 추출한 특정 표본은 통계적으로 이들 평균이 다르다는 것을 증명하지 못함 -> **2형 오류**   \n",
    "즉 검정력을 높이려면 표본 수를 늘려야 함"
   ]
  },
  {
   "cell_type": "markdown",
   "id": "3319c0f5",
   "metadata": {},
   "source": [
    "## 비매개변수 기법\n",
    "**매개변수적**: 표본 데이터가 주어지면 분포 매개변수에 대한 최대 우도 최적화를 사용해 분포 함수를 적합화   \n",
    "**커널 밀도 추정**: 미지의 분포 함수를 표현하는 대안적 접근법 -> 히스토그램의 평활화 버전으로 볼 수 있음"
   ]
  },
  {
   "cell_type": "code",
   "execution_count": 79,
   "id": "befbb290",
   "metadata": {},
   "outputs": [
    {
     "name": "stderr",
     "output_type": "stream",
     "text": [
      "C:\\Users\\lhg26\\Anaconda3\\lib\\site-packages\\seaborn\\distributions.py:2619: FutureWarning: `distplot` is a deprecated function and will be removed in a future version. Please adapt your code to use either `displot` (a figure-level function with similar flexibility) or `histplot` (an axes-level function for histograms).\n",
      "  warnings.warn(msg, FutureWarning)\n"
     ]
    },
    {
     "data": {
      "image/png": "[encoded data removed]",
      "text/plain": [
       "<Figure size 864x216 with 3 Axes>"
      ]
     },
     "metadata": {},
     "output_type": "display_data"
    }
   ],
   "source": [
    "# 미지의 분포를 가진 확률 분포 X에서 추출쵠 표본 집합, 자유도는 5\n",
    "X = stats.chi2(df=5)\n",
    "X_samples = X.rvs(100)\n",
    "\n",
    "# KDE 계산\n",
    "kde = stats.kde.gaussian_kde(X_samples)\n",
    "\n",
    "# bw_method 인수를 사용해 대역폭 직접 설정\n",
    "kde_low_bw = stats.kde.gaussian_kde(X_samples, bw_method=0.25)\n",
    "\n",
    "# 표본의 실제 확률 분포 함수 표시\n",
    "\n",
    "x = np.linspace(0, 20, 100)\n",
    "fig, axes = plt.subplots(1, 3, figsize=(12, 3))\n",
    "\n",
    "axes[0].hist(X_samples, density=True, alpha=0.5, bins=25)\n",
    "axes[1].plot(x, kde(x), label=\"KDE\")\n",
    "axes[1].plot(x, kde_low_bw(x), label=\"KDE (low bw)\")\n",
    "axes[1].plot(x, X.pdf(x), label=\"True PDF\")\n",
    "axes[1].legend()\n",
    "sns.distplot(X_samples, bins=25, ax=axes[2])\n",
    "\n",
    "fig.tight_layout()"
   ]
  },
  {
   "cell_type": "code",
   "execution_count": 80,
   "id": "fabc1594",
   "metadata": {},
   "outputs": [
    {
     "data": {
      "text/plain": [
       "array([[ 3.07539515,  2.60499515,  7.71842629, 10.82963413,  1.64930136,\n",
       "         4.32892284, 10.24788743, 15.3480213 , 10.57674321,  8.35401643]])"
      ]
     },
     "execution_count": 80,
     "metadata": {},
     "output_type": "execute_result"
    }
   ],
   "source": [
    "# KDE가 주어지면 resample 메서드를 사용해 그 값으로 새로운 랜덤 수 생성 가능\n",
    "kde.resample(10)"
   ]
  },
  {
   "cell_type": "code",
   "execution_count": 81,
   "id": "8905fbfb",
   "metadata": {},
   "outputs": [],
   "source": [
    "def _kde_cdf(x):\n",
    "    return kde.integrate_box_1d(-np.inf, x) # 1차원 KDE의 경우 CDF 얻기\n",
    "kde_cdf = np.vectorize(_kde_cdf)"
   ]
  },
  {
   "cell_type": "code",
   "execution_count": 82,
   "id": "7af58344",
   "metadata": {},
   "outputs": [],
   "source": [
    "# 그 역을 찾기\n",
    "def _kde_ppf(q):\n",
    "    return optimize.fsolve(lambda x, q: kde_cdf(x) - q, kde.dataset.mean(), args=(q,))[0]\n",
    "kde_ppf = np.vectorize(_kde_ppf)"
   ]
  },
  {
   "cell_type": "markdown",
   "id": "4b7db71b",
   "metadata": {},
   "source": [
    "KDE 값에 대한 CDF와 PPF를 사용하면 통계 가설 검정을 수행하고 신뢰 구간 계산 가능"
   ]
  },
  {
   "cell_type": "code",
   "execution_count": 83,
   "id": "23f796d5",
   "metadata": {},
   "outputs": [
    {
     "data": {
      "text/plain": [
       "array([ 0.3681289 , 12.58920315])"
      ]
     },
     "execution_count": 83,
     "metadata": {},
     "output_type": "execute_result"
    }
   ],
   "source": [
    "kde_ppf([0.05, 0.95]) # 90%의 신뢰 구간 계산"
   ]
  },
  {
   "cell_type": "markdown",
   "id": "730d0ae8",
   "metadata": {},
   "source": [
    "통계 문제에 대한 확률 분포를 나타내는 KDE를 갖게 되면 매개변수적 통계에서 사용하는 것과 같은 방법 사용 가능"
   ]
  },
  {
   "cell_type": "code",
   "execution_count": null,
   "id": "3a187ece",
   "metadata": {},
   "outputs": [],
   "source": []
  }
 ],
 "metadata": {
  "kernelspec": {
   "display_name": "Python 3 (ipykernel)",
   "language": "python",
   "name": "python3"
  },
  "language_info": {
   "codemirror_mode": {
    "name": "ipython",
    "version": 3
   },
   "file_extension": ".py",
   "mimetype": "text/x-python",
   "name": "python",
   "nbconvert_exporter": "python",
   "pygments_lexer": "ipython3",
   "version": "3.9.7"
  }
 },
 "nbformat": 4,
 "nbformat_minor": 5
}
