{
  "nbformat": 4,
  "nbformat_minor": 0,
  "metadata": {
    "colab": {
      "name": "Chapter14_통계 모델링",
      "provenance": [],
      "collapsed_sections": []
    },
    "kernelspec": {
      "name": "python3",
      "display_name": "Python 3"
    },
    "language_info": {
      "name": "python"
    }
  },
  "cells": [
    {
      "cell_type": "markdown",
      "source": [
        "**statsmodels** : 선형 회귀, 로지스틱 회쉬 및 시계열 분석 등의 통계 검정이나 모델링과 관련된 풍부한 기능 제공   \n",
        "**pasty** : R과 같은 통계 소프트웨어에서 영감을 얻어 간단한 유형 언어로 통계 모델링을 정의할 수 있는 기능 제공\n",
        "\n",
        "## 모델 임포트하기"
      ],
      "metadata": {
        "id": "h2d_7Qw7eSwQ"
      }
    },
    {
      "cell_type": "code",
      "source": [
        "import statsmodels.api as sm\n",
        "import statsmodels.formula.api as smf\n",
        "import statsmodels.graphics.api as smg\n",
        "import patsy\n",
        "import matplotlib.pyplot as plt\n",
        "import numpy as np\n",
        "import pandas as pd\n",
        "from scipy import stats"
      ],
      "metadata": {
        "id": "D4mBtReEeOEf"
      },
      "execution_count": 52,
      "outputs": []
    },
    {
      "cell_type": "markdown",
      "source": [
        "## 통계 모델링 소개\n",
        "반응 변수의 집홥 Y와 설명 변수의 집합 X로 Y와 X 사이의 수학적 관계 찾기   \n",
        "-> 모델을 통계적으로 만드는 핵심 구성 요소는 데이터가 잡음 등의 상황으로 인해 불확실성 요소를 갖기 때문   \n",
        "데이터의 불확실성은 모델에서의 확률 변수로 묘사 가능   \n",
        "널리 사용되는 통계 모델: **Y = ß<sub>0</sub>+ß<sub>1</sub> X+e**\n",
        "- 잔차 e는 정규분포하므로 **최소 자승법**으로 모델을 데이터에 적합화 가능\n",
        "\n",
        "\n",
        "## Patsy를 이용한 통계 모델 정의\n",
        "1. 모델의 수학적 형태 확립\n",
        "2. 회귀 문제가 행렬 유형으로 나타나는 소위 설계 행렬 y와 X 구성\n",
        "\n",
        "아래의 예시는 두 독립 변수 x1, x2에 해당하는 관측값이 y이고 고려 중인 선형 모델이 Y = ß<sub>o</sub> + ß<sub>I</sub>X<sub>l</sub> + ß<sub>2</sub>X<sub>2 </sub>이면 설계 행렬은 X= [1 , X<sub>1</sub> ,X<sub>2</sub>, x<sub>1</sub>x<sub>2</sub>] 가 됨"
      ],
      "metadata": {
        "id": "nNDfDxOyecMj"
      }
    },
    {
      "cell_type": "code",
      "source": [
        "y = np.array([1, 2, 3, 4, 5])\n",
        "x1 = np.array([6, 7, 8, 9, 10])\n",
        "x2 = np.array([11, 12, 13, 14, 15])\n",
        "X = np.vstack([np.ones(5), x1, x2, x1*x2]).T\n",
        "X # 설계 행렬"
      ],
      "metadata": {
        "colab": {
          "base_uri": "https://localhost:8080/"
        },
        "id": "nHQZTmAoeRSM",
        "outputId": "d26aedd3-7cdc-4310-96ed-8da866ef1341"
      },
      "execution_count": 53,
      "outputs": [
        {
          "output_type": "execute_result",
          "data": {
            "text/plain": [
              "array([[  1.,   6.,  11.,  66.],\n",
              "       [  1.,   7.,  12.,  84.],\n",
              "       [  1.,   8.,  13., 104.],\n",
              "       [  1.,   9.,  14., 126.],\n",
              "       [  1.,  10.,  15., 150.]])"
            ]
          },
          "metadata": {},
          "execution_count": 53
        }
      ]
    },
    {
      "cell_type": "code",
      "source": [
        "# X와 y가 주어지면 최소 지승 적합화를 이용해 미지 계수 벡터 ß찾기\n",
        "beta, res, rank, sval = np.linalg.lstsq(X, y)\n",
        "beta"
      ],
      "metadata": {
        "colab": {
          "base_uri": "https://localhost:8080/"
        },
        "id": "x_w8Hkzl0Ebu",
        "outputId": "a059cdb0-462a-4c1c-b77e-9aff8a063a33"
      },
      "execution_count": 54,
      "outputs": [
        {
          "output_type": "stream",
          "name": "stderr",
          "text": [
            "/usr/local/lib/python3.7/dist-packages/ipykernel_launcher.py:2: FutureWarning: `rcond` parameter will change to the default of machine precision times ``max(M, N)`` where M and N are the input matrix dimensions.\n",
            "To use the future default and silence this warning we advise to pass `rcond=None`, to keep using the old, explicitly pass `rcond=-1`.\n",
            "  \n"
          ]
        },
        {
          "output_type": "execute_result",
          "data": {
            "text/plain": [
              "array([-5.55555556e-01,  1.88888889e+00, -8.88888889e-01, -1.11022302e-15])"
            ]
          },
          "metadata": {},
          "execution_count": 54
        }
      ]
    },
    {
      "cell_type": "markdown",
      "source": [
        "Pasty는 모델을 정의하고 관련 설계 행렬을 자동으로 구성하기에 편리한 유형의 언어 제공   \n",
        "**Y = ß<sub>o</sub> + ß<sub>I</sub>X<sub>l</sub> + ß<sub>2</sub>X<sub>2 </sub> 를 Pasty로 정의하면**   \n",
        "-> \"y ~ 1 + x1 + x2 + x1*x2\"와 같이 공식 문자열을 작성해야 함\n"
      ],
      "metadata": {
        "id": "0xB5qBSdsF_0"
      }
    },
    {
      "cell_type": "code",
      "source": [
        "data = {\"y\": y, \"x1\": x1, \"x2\": x2}\n",
        "y, X = patsy.dmatrices(\"y ~ 1 + x1 + x2 + x1*x2\", data)\n",
        "y "
      ],
      "metadata": {
        "colab": {
          "base_uri": "https://localhost:8080/"
        },
        "id": "EsVf3lqE0NpI",
        "outputId": "b20a2e91-f06b-4219-a837-7b67a6bdd299"
      },
      "execution_count": 55,
      "outputs": [
        {
          "output_type": "execute_result",
          "data": {
            "text/plain": [
              "DesignMatrix with shape (5, 1)\n",
              "  y\n",
              "  1\n",
              "  2\n",
              "  3\n",
              "  4\n",
              "  5\n",
              "  Terms:\n",
              "    'y' (column 0)"
            ]
          },
          "metadata": {},
          "execution_count": 55
        }
      ]
    },
    {
      "cell_type": "code",
      "source": [
        "X"
      ],
      "metadata": {
        "colab": {
          "base_uri": "https://localhost:8080/"
        },
        "id": "Y5Ix6LnFpRJd",
        "outputId": "625ec80f-1352-4671-f297-a072ff2037e8"
      },
      "execution_count": 56,
      "outputs": [
        {
          "output_type": "execute_result",
          "data": {
            "text/plain": [
              "DesignMatrix with shape (5, 4)\n",
              "  Intercept  x1  x2  x1:x2\n",
              "          1   6  11     66\n",
              "          1   7  12     84\n",
              "          1   8  13    104\n",
              "          1   9  14    126\n",
              "          1  10  15    150\n",
              "  Terms:\n",
              "    'Intercept' (column 0)\n",
              "    'x1' (column 1)\n",
              "    'x2' (column 2)\n",
              "    'x1:x2' (column 3)"
            ]
          },
          "metadata": {},
          "execution_count": 56
        }
      ]
    },
    {
      "cell_type": "code",
      "source": [
        "type(X) # DesignMatrix 유형"
      ],
      "metadata": {
        "colab": {
          "base_uri": "https://localhost:8080/"
        },
        "id": "eMvz2ar8tDOC",
        "outputId": "27466e85-0670-48a4-bbde-b023780d1625"
      },
      "execution_count": 57,
      "outputs": [
        {
          "output_type": "execute_result",
          "data": {
            "text/plain": [
              "patsy.design_info.DesignMatrix"
            ]
          },
          "metadata": {},
          "execution_count": 57
        }
      ]
    },
    {
      "cell_type": "code",
      "source": [
        "np.array(X) # DesignMatrix 인스턴스를 ndarray 객체로 변환하기"
      ],
      "metadata": {
        "colab": {
          "base_uri": "https://localhost:8080/"
        },
        "id": "YYRY7eCRtKIo",
        "outputId": "86ce1642-1841-463c-ae0e-84becf0d9c17"
      },
      "execution_count": 58,
      "outputs": [
        {
          "output_type": "execute_result",
          "data": {
            "text/plain": [
              "array([[  1.,   6.,  11.,  66.],\n",
              "       [  1.,   7.,  12.,  84.],\n",
              "       [  1.,   8.,  13., 104.],\n",
              "       [  1.,   9.,  14., 126.],\n",
              "       [  1.,  10.,  15., 150.]])"
            ]
          },
          "metadata": {},
          "execution_count": 58
        }
      ]
    },
    {
      "cell_type": "code",
      "source": [
        "df_data = pd.DataFrame(data)\n",
        "# return type을 지정함으로써 DataFrame 객체 형태로 설계 행렬 반환\n",
        "y, X = patsy.dmatrices(\"y ~ 1 + x1 + x2 + x1:x2\", df_data, return_type=\"dataframe\")\n",
        "X"
      ],
      "metadata": {
        "colab": {
          "base_uri": "https://localhost:8080/",
          "height": 206
        },
        "id": "kyiy2RfctZBD",
        "outputId": "c0b1cdab-b0f5-4529-d140-3b3c42f4a722"
      },
      "execution_count": 59,
      "outputs": [
        {
          "output_type": "execute_result",
          "data": {
            "text/plain": [
              "   Intercept    x1    x2  x1:x2\n",
              "0        1.0   6.0  11.0   66.0\n",
              "1        1.0   7.0  12.0   84.0\n",
              "2        1.0   8.0  13.0  104.0\n",
              "3        1.0   9.0  14.0  126.0\n",
              "4        1.0  10.0  15.0  150.0"
            ],
            "text/html": [
              "\n",
              "  <div id=\"df-b0c2fb39-2784-4d9c-be5e-f20b04935e60\">\n",
              "    <div class=\"colab-df-container\">\n",
              "      <div>\n",
              "<style scoped>\n",
              "    .dataframe tbody tr th:only-of-type {\n",
              "        vertical-align: middle;\n",
              "    }\n",
              "\n",
              "    .dataframe tbody tr th {\n",
              "        vertical-align: top;\n",
              "    }\n",
              "\n",
              "    .dataframe thead th {\n",
              "        text-align: right;\n",
              "    }\n",
              "</style>\n",
              "<table border=\"1\" class=\"dataframe\">\n",
              "  <thead>\n",
              "    <tr style=\"text-align: right;\">\n",
              "      <th></th>\n",
              "      <th>Intercept</th>\n",
              "      <th>x1</th>\n",
              "      <th>x2</th>\n",
              "      <th>x1:x2</th>\n",
              "    </tr>\n",
              "  </thead>\n",
              "  <tbody>\n",
              "    <tr>\n",
              "      <th>0</th>\n",
              "      <td>1.0</td>\n",
              "      <td>6.0</td>\n",
              "      <td>11.0</td>\n",
              "      <td>66.0</td>\n",
              "    </tr>\n",
              "    <tr>\n",
              "      <th>1</th>\n",
              "      <td>1.0</td>\n",
              "      <td>7.0</td>\n",
              "      <td>12.0</td>\n",
              "      <td>84.0</td>\n",
              "    </tr>\n",
              "    <tr>\n",
              "      <th>2</th>\n",
              "      <td>1.0</td>\n",
              "      <td>8.0</td>\n",
              "      <td>13.0</td>\n",
              "      <td>104.0</td>\n",
              "    </tr>\n",
              "    <tr>\n",
              "      <th>3</th>\n",
              "      <td>1.0</td>\n",
              "      <td>9.0</td>\n",
              "      <td>14.0</td>\n",
              "      <td>126.0</td>\n",
              "    </tr>\n",
              "    <tr>\n",
              "      <th>4</th>\n",
              "      <td>1.0</td>\n",
              "      <td>10.0</td>\n",
              "      <td>15.0</td>\n",
              "      <td>150.0</td>\n",
              "    </tr>\n",
              "  </tbody>\n",
              "</table>\n",
              "</div>\n",
              "      <button class=\"colab-df-convert\" onclick=\"convertToInteractive('df-b0c2fb39-2784-4d9c-be5e-f20b04935e60')\"\n",
              "              title=\"Convert this dataframe to an interactive table.\"\n",
              "              style=\"display:none;\">\n",
              "        \n",
              "  <svg xmlns=\"http://www.w3.org/2000/svg\" height=\"24px\"viewBox=\"0 0 24 24\"\n",
              "       width=\"24px\">\n",
              "    <path d=\"M0 0h24v24H0V0z\" fill=\"none\"/>\n",
              "    <path d=\"M18.56 5.44l.94 2.06.94-2.06 2.06-.94-2.06-.94-.94-2.06-.94 2.06-2.06.94zm-11 1L8.5 8.5l.94-2.06 2.06-.94-2.06-.94L8.5 2.5l-.94 2.06-2.06.94zm10 10l.94 2.06.94-2.06 2.06-.94-2.06-.94-.94-2.06-.94 2.06-2.06.94z\"/><path d=\"M17.41 7.96l-1.37-1.37c-.4-.4-.92-.59-1.43-.59-.52 0-1.04.2-1.43.59L10.3 9.45l-7.72 7.72c-.78.78-.78 2.05 0 2.83L4 21.41c.39.39.9.59 1.41.59.51 0 1.02-.2 1.41-.59l7.78-7.78 2.81-2.81c.8-.78.8-2.07 0-2.86zM5.41 20L4 18.59l7.72-7.72 1.47 1.35L5.41 20z\"/>\n",
              "  </svg>\n",
              "      </button>\n",
              "      \n",
              "  <style>\n",
              "    .colab-df-container {\n",
              "      display:flex;\n",
              "      flex-wrap:wrap;\n",
              "      gap: 12px;\n",
              "    }\n",
              "\n",
              "    .colab-df-convert {\n",
              "      background-color: #E8F0FE;\n",
              "      border: none;\n",
              "      border-radius: 50%;\n",
              "      cursor: pointer;\n",
              "      display: none;\n",
              "      fill: #1967D2;\n",
              "      height: 32px;\n",
              "      padding: 0 0 0 0;\n",
              "      width: 32px;\n",
              "    }\n",
              "\n",
              "    .colab-df-convert:hover {\n",
              "      background-color: #E2EBFA;\n",
              "      box-shadow: 0px 1px 2px rgba(60, 64, 67, 0.3), 0px 1px 3px 1px rgba(60, 64, 67, 0.15);\n",
              "      fill: #174EA6;\n",
              "    }\n",
              "\n",
              "    [theme=dark] .colab-df-convert {\n",
              "      background-color: #3B4455;\n",
              "      fill: #D2E3FC;\n",
              "    }\n",
              "\n",
              "    [theme=dark] .colab-df-convert:hover {\n",
              "      background-color: #434B5C;\n",
              "      box-shadow: 0px 1px 3px 1px rgba(0, 0, 0, 0.15);\n",
              "      filter: drop-shadow(0px 1px 2px rgba(0, 0, 0, 0.3));\n",
              "      fill: #FFFFFF;\n",
              "    }\n",
              "  </style>\n",
              "\n",
              "      <script>\n",
              "        const buttonEl =\n",
              "          document.querySelector('#df-b0c2fb39-2784-4d9c-be5e-f20b04935e60 button.colab-df-convert');\n",
              "        buttonEl.style.display =\n",
              "          google.colab.kernel.accessAllowed ? 'block' : 'none';\n",
              "\n",
              "        async function convertToInteractive(key) {\n",
              "          const element = document.querySelector('#df-b0c2fb39-2784-4d9c-be5e-f20b04935e60');\n",
              "          const dataTable =\n",
              "            await google.colab.kernel.invokeFunction('convertToInteractive',\n",
              "                                                     [key], {});\n",
              "          if (!dataTable) return;\n",
              "\n",
              "          const docLinkHtml = 'Like what you see? Visit the ' +\n",
              "            '<a target=\"_blank\" href=https://colab.research.google.com/notebooks/data_table.ipynb>data table notebook</a>'\n",
              "            + ' to learn more about interactive tables.';\n",
              "          element.innerHTML = '';\n",
              "          dataTable['output_type'] = 'display_data';\n",
              "          await google.colab.output.renderOutput(dataTable, element);\n",
              "          const docLink = document.createElement('div');\n",
              "          docLink.innerHTML = docLinkHtml;\n",
              "          element.appendChild(docLink);\n",
              "        }\n",
              "      </script>\n",
              "    </div>\n",
              "  </div>\n",
              "  "
            ]
          },
          "metadata": {},
          "execution_count": 59
        }
      ]
    },
    {
      "cell_type": "markdown",
      "source": [
        "**선형 회귀**를 수행하려면 **statsmodels 라이브러리의 OLS 클래스**를 사용"
      ],
      "metadata": {
        "id": "FZHmc9M5tpQG"
      }
    },
    {
      "cell_type": "code",
      "source": [
        "model = sm.OLS(y, X)\n",
        "result = model.fit()\n",
        "result.params"
      ],
      "metadata": {
        "colab": {
          "base_uri": "https://localhost:8080/"
        },
        "id": "cVlSotvstj8p",
        "outputId": "a619f13f-ce85-4521-f7c7-f9f3d4fcfee8"
      },
      "execution_count": 60,
      "outputs": [
        {
          "output_type": "execute_result",
          "data": {
            "text/plain": [
              "Intercept   -5.555556e-01\n",
              "x1           1.888889e+00\n",
              "x2          -8.888889e-01\n",
              "x1:x2       -7.771561e-16\n",
              "dtype: float64"
            ]
          },
          "metadata": {},
          "execution_count": 60
        }
      ]
    },
    {
      "cell_type": "code",
      "source": [
        "# statsmodels 공식 API를 이용하면 Pasty 공식 직접 전달 가능\n",
        "model = smf.ols(\"y ~ 1 + x1 + x2 + x1:x2\", df_data)\n",
        "result = model.fit()\n",
        "result.params"
      ],
      "metadata": {
        "colab": {
          "base_uri": "https://localhost:8080/"
        },
        "id": "Xk0oMWRrt4pu",
        "outputId": "80d9a886-57b7-44ab-cf2d-e60388eae468"
      },
      "execution_count": 61,
      "outputs": [
        {
          "output_type": "execute_result",
          "data": {
            "text/plain": [
              "Intercept   -5.555556e-01\n",
              "x1           1.888889e+00\n",
              "x2          -8.888889e-01\n",
              "x1:x2       -7.771561e-16\n",
              "dtype: float64"
            ]
          },
          "metadata": {},
          "execution_count": 61
        }
      ]
    },
    {
      "cell_type": "markdown",
      "source": [
        "**Pasty 공식의 구문과 표기**\n",
        "- 좌변(LHS): 반응 변수를 구성하는 항 지정\n",
        "- 우변(RHS): 설명 변수를 구성하는 항 지정 "
      ],
      "metadata": {
        "id": "Ur0yrC64uqN3"
      }
    },
    {
      "cell_type": "code",
      "source": [
        "from collections import defaultdict\n",
        "data = defaultdict(lambda: np.array([]))\n",
        "patsy.dmatrices(\"y ~ a\", data=data)[1].design_info.term_names"
      ],
      "metadata": {
        "colab": {
          "base_uri": "https://localhost:8080/"
        },
        "id": "qjgJIFu5uOQv",
        "outputId": "83802995-7fcf-4b95-8600-4cd6f6204e04"
      },
      "execution_count": 62,
      "outputs": [
        {
          "output_type": "execute_result",
          "data": {
            "text/plain": [
              "['Intercept', 'a']"
            ]
          },
          "metadata": {},
          "execution_count": 62
        }
      ]
    },
    {
      "cell_type": "code",
      "source": [
        "patsy.dmatrices(\"y ~ 1 + a + b\", data=data)[1].design_info.term_names"
      ],
      "metadata": {
        "colab": {
          "base_uri": "https://localhost:8080/"
        },
        "id": "GHRXjVkGvKGf",
        "outputId": "7bde1015-3553-4f48-d06a-41b22f83d861"
      },
      "execution_count": 63,
      "outputs": [
        {
          "output_type": "execute_result",
          "data": {
            "text/plain": [
              "['Intercept', 'a', 'b']"
            ]
          },
          "metadata": {},
          "execution_count": 63
        }
      ]
    },
    {
      "cell_type": "code",
      "source": [
        "# -1로 절편 제거\n",
        "patsy.dmatrices(\"y ~ -1 + a + b\", data=data)[1].design_info.term_names"
      ],
      "metadata": {
        "colab": {
          "base_uri": "https://localhost:8080/"
        },
        "id": "eMRrZua9vblb",
        "outputId": "3c46eab1-d822-4170-dfc2-be10266ca4f1"
      },
      "execution_count": 64,
      "outputs": [
        {
          "output_type": "execute_result",
          "data": {
            "text/plain": [
              "['a', 'b']"
            ]
          },
          "metadata": {},
          "execution_count": 64
        }
      ]
    },
    {
      "cell_type": "code",
      "source": [
        "# a * b는 모든 하위 차수 상호 작용 항을 포함하도록 자동 확장\n",
        "patsy.dmatrices(\"y ~ a * b\", data=data)[1].design_info.term_names"
      ],
      "metadata": {
        "colab": {
          "base_uri": "https://localhost:8080/"
        },
        "id": "L1q626b3vjD5",
        "outputId": "d2332a0a-d84d-4347-ad28-ad3f703573b0"
      },
      "execution_count": 65,
      "outputs": [
        {
          "output_type": "execute_result",
          "data": {
            "text/plain": [
              "['Intercept', 'a', 'b', 'a:b']"
            ]
          },
          "metadata": {},
          "execution_count": 65
        }
      ]
    },
    {
      "cell_type": "code",
      "source": [
        "# 더 고차로 확장\n",
        "patsy.dmatrices(\"y ~ a * b * c\", data=data)[1].design_info.term_names"
      ],
      "metadata": {
        "colab": {
          "base_uri": "https://localhost:8080/"
        },
        "id": "Ub146_A_vw4I",
        "outputId": "0461b8aa-a960-45c9-852b-3aedcda40607"
      },
      "execution_count": 66,
      "outputs": [
        {
          "output_type": "execute_result",
          "data": {
            "text/plain": [
              "['Intercept', 'a', 'b', 'a:b', 'c', 'a:c', 'b:c', 'a:b:c']"
            ]
          },
          "metadata": {},
          "execution_count": 66
        }
      ]
    },
    {
      "cell_type": "code",
      "source": [
        "# -를 이용하여 특정 항 제거\n",
        "patsy.dmatrices(\"y ~ a * b * c - a:b:c\", data=data)[1].design_info.term_names"
      ],
      "metadata": {
        "colab": {
          "base_uri": "https://localhost:8080/"
        },
        "id": "ArqxuAarv1O3",
        "outputId": "0ff8ac1a-d730-4900-b287-6c6245f5ffad"
      },
      "execution_count": 67,
      "outputs": [
        {
          "output_type": "execute_result",
          "data": {
            "text/plain": [
              "['Intercept', 'a', 'b', 'a:b', 'c', 'a:c', 'b:c']"
            ]
          },
          "metadata": {},
          "execution_count": 67
        }
      ]
    },
    {
      "cell_type": "markdown",
      "source": [
        "Pasty에서 +와 -는 집합 연산자와 같은 역할    \n",
        "-> 산술식으로 표현해야 하는 경우 함수 호출로 식을 둘러싸야 함    \n",
        "-> 편의상 **I라는 항등 함수** 제공"
      ],
      "metadata": {
        "id": "3upGm3DJwSFE"
      }
    },
    {
      "cell_type": "code",
      "source": [
        "data = {k: np.array([]) for k in [\"y\", \"a\", \"b\", \"c\"]}\n",
        "patsy.dmatrices(\"y ~ a + b\", data=data)[1].design_info.term_names"
      ],
      "metadata": {
        "colab": {
          "base_uri": "https://localhost:8080/"
        },
        "id": "pKPW9rk_v6Qj",
        "outputId": "05637726-c74c-4a38-c48b-58b2acc3ed37"
      },
      "execution_count": 68,
      "outputs": [
        {
          "output_type": "execute_result",
          "data": {
            "text/plain": [
              "['Intercept', 'a', 'b']"
            ]
          },
          "metadata": {},
          "execution_count": 68
        }
      ]
    },
    {
      "cell_type": "code",
      "source": [
        "# 항등함수\n",
        "# I(a + b) 는 a와 b의 산술 합\n",
        "patsy.dmatrices(\"y ~ I(a + b)\", data=data)[1].design_info.term_names"
      ],
      "metadata": {
        "colab": {
          "base_uri": "https://localhost:8080/"
        },
        "id": "XAr2YZ2rwE0S",
        "outputId": "a8f7ea74-27b4-42ab-831e-46bf36d19aa5"
      },
      "execution_count": 69,
      "outputs": [
        {
          "output_type": "execute_result",
          "data": {
            "text/plain": [
              "['Intercept', 'I(a + b)']"
            ]
          },
          "metadata": {},
          "execution_count": 69
        }
      ]
    },
    {
      "cell_type": "code",
      "source": [
        "patsy.dmatrices(\"y ~ a**2\", data=data)[1].design_info.term_names"
      ],
      "metadata": {
        "colab": {
          "base_uri": "https://localhost:8080/"
        },
        "id": "caQL8Iw8w07g",
        "outputId": "608618ef-cab9-4484-d45d-cf894f1e4081"
      },
      "execution_count": 70,
      "outputs": [
        {
          "output_type": "execute_result",
          "data": {
            "text/plain": [
              "['Intercept', 'a']"
            ]
          },
          "metadata": {},
          "execution_count": 70
        }
      ]
    },
    {
      "cell_type": "code",
      "source": [
        "# 변수의 지수로 표현되는 항 포함\n",
        "patsy.dmatrices(\"y ~ I(a**2)\", data=data)[1].design_info.term_names"
      ],
      "metadata": {
        "colab": {
          "base_uri": "https://localhost:8080/"
        },
        "id": "ElFEQ0uMwF53",
        "outputId": "e1071ae0-974d-4cad-ce55-c548a14c8d05"
      },
      "execution_count": 71,
      "outputs": [
        {
          "output_type": "execute_result",
          "data": {
            "text/plain": [
              "['Intercept', 'I(a ** 2)']"
            ]
          },
          "metadata": {},
          "execution_count": 71
        }
      ]
    },
    {
      "cell_type": "code",
      "source": [
        "# numpy 사용하여 입력 데이터 배열 변환\n",
        "patsy.dmatrices(\"y ~ np.log(a) + b\", data=data)[1].design_info.term_names"
      ],
      "metadata": {
        "colab": {
          "base_uri": "https://localhost:8080/"
        },
        "id": "9ITAav2CwvOq",
        "outputId": "6808e446-08d8-4768-b814-4ac0371e5cd5"
      },
      "execution_count": 72,
      "outputs": [
        {
          "output_type": "execute_result",
          "data": {
            "text/plain": [
              "['Intercept', 'np.log(a)', 'b']"
            ]
          },
          "metadata": {},
          "execution_count": 72
        }
      ]
    },
    {
      "cell_type": "code",
      "source": [
        "# 변수에 임의의 python 함수를 사용해 변환\n",
        "z = lambda x1, x2: x1+x2\n",
        "patsy.dmatrices(\"y ~ z(a, b)\", data=data)[1].design_info.term_names"
      ],
      "metadata": {
        "colab": {
          "base_uri": "https://localhost:8080/"
        },
        "id": "3OGu5YNVxPrz",
        "outputId": "bc6eead5-1b96-478b-9951-4919a22e9fad"
      },
      "execution_count": 73,
      "outputs": [
        {
          "output_type": "execute_result",
          "data": {
            "text/plain": [
              "['Intercept', 'z(a, b)']"
            ]
          },
          "metadata": {},
          "execution_count": 73
        }
      ]
    },
    {
      "cell_type": "markdown",
      "source": [
        "\"y ~ - 1 + a\" 와 \"y ~ - 1 + C(a)\"에 해당하는 설계 행렬 살펴보기   \n",
        "-> a는 각각 **수치**인 경우와 **범주형**인 경우 "
      ],
      "metadata": {
        "id": "iSJfnX4rxmSP"
      }
    },
    {
      "cell_type": "code",
      "source": [
        "# 수치 변수\n",
        "data = {\"y\": [1, 2, 3], \"a\": [1, 2, 3]}\n",
        "patsy.dmatrices(\"y ~ - 1 + a\", data=data, return_type=\"dataframe\")[1]"
      ],
      "metadata": {
        "colab": {
          "base_uri": "https://localhost:8080/",
          "height": 143
        },
        "id": "UTlWpqXexVSv",
        "outputId": "46e820d9-793f-4a51-9593-421d2857a58c"
      },
      "execution_count": 74,
      "outputs": [
        {
          "output_type": "execute_result",
          "data": {
            "text/plain": [
              "     a\n",
              "0  1.0\n",
              "1  2.0\n",
              "2  3.0"
            ],
            "text/html": [
              "\n",
              "  <div id=\"df-af1d2ce4-ebfb-45a9-a05c-2e7dd4ddcad0\">\n",
              "    <div class=\"colab-df-container\">\n",
              "      <div>\n",
              "<style scoped>\n",
              "    .dataframe tbody tr th:only-of-type {\n",
              "        vertical-align: middle;\n",
              "    }\n",
              "\n",
              "    .dataframe tbody tr th {\n",
              "        vertical-align: top;\n",
              "    }\n",
              "\n",
              "    .dataframe thead th {\n",
              "        text-align: right;\n",
              "    }\n",
              "</style>\n",
              "<table border=\"1\" class=\"dataframe\">\n",
              "  <thead>\n",
              "    <tr style=\"text-align: right;\">\n",
              "      <th></th>\n",
              "      <th>a</th>\n",
              "    </tr>\n",
              "  </thead>\n",
              "  <tbody>\n",
              "    <tr>\n",
              "      <th>0</th>\n",
              "      <td>1.0</td>\n",
              "    </tr>\n",
              "    <tr>\n",
              "      <th>1</th>\n",
              "      <td>2.0</td>\n",
              "    </tr>\n",
              "    <tr>\n",
              "      <th>2</th>\n",
              "      <td>3.0</td>\n",
              "    </tr>\n",
              "  </tbody>\n",
              "</table>\n",
              "</div>\n",
              "      <button class=\"colab-df-convert\" onclick=\"convertToInteractive('df-af1d2ce4-ebfb-45a9-a05c-2e7dd4ddcad0')\"\n",
              "              title=\"Convert this dataframe to an interactive table.\"\n",
              "              style=\"display:none;\">\n",
              "        \n",
              "  <svg xmlns=\"http://www.w3.org/2000/svg\" height=\"24px\"viewBox=\"0 0 24 24\"\n",
              "       width=\"24px\">\n",
              "    <path d=\"M0 0h24v24H0V0z\" fill=\"none\"/>\n",
              "    <path d=\"M18.56 5.44l.94 2.06.94-2.06 2.06-.94-2.06-.94-.94-2.06-.94 2.06-2.06.94zm-11 1L8.5 8.5l.94-2.06 2.06-.94-2.06-.94L8.5 2.5l-.94 2.06-2.06.94zm10 10l.94 2.06.94-2.06 2.06-.94-2.06-.94-.94-2.06-.94 2.06-2.06.94z\"/><path d=\"M17.41 7.96l-1.37-1.37c-.4-.4-.92-.59-1.43-.59-.52 0-1.04.2-1.43.59L10.3 9.45l-7.72 7.72c-.78.78-.78 2.05 0 2.83L4 21.41c.39.39.9.59 1.41.59.51 0 1.02-.2 1.41-.59l7.78-7.78 2.81-2.81c.8-.78.8-2.07 0-2.86zM5.41 20L4 18.59l7.72-7.72 1.47 1.35L5.41 20z\"/>\n",
              "  </svg>\n",
              "      </button>\n",
              "      \n",
              "  <style>\n",
              "    .colab-df-container {\n",
              "      display:flex;\n",
              "      flex-wrap:wrap;\n",
              "      gap: 12px;\n",
              "    }\n",
              "\n",
              "    .colab-df-convert {\n",
              "      background-color: #E8F0FE;\n",
              "      border: none;\n",
              "      border-radius: 50%;\n",
              "      cursor: pointer;\n",
              "      display: none;\n",
              "      fill: #1967D2;\n",
              "      height: 32px;\n",
              "      padding: 0 0 0 0;\n",
              "      width: 32px;\n",
              "    }\n",
              "\n",
              "    .colab-df-convert:hover {\n",
              "      background-color: #E2EBFA;\n",
              "      box-shadow: 0px 1px 2px rgba(60, 64, 67, 0.3), 0px 1px 3px 1px rgba(60, 64, 67, 0.15);\n",
              "      fill: #174EA6;\n",
              "    }\n",
              "\n",
              "    [theme=dark] .colab-df-convert {\n",
              "      background-color: #3B4455;\n",
              "      fill: #D2E3FC;\n",
              "    }\n",
              "\n",
              "    [theme=dark] .colab-df-convert:hover {\n",
              "      background-color: #434B5C;\n",
              "      box-shadow: 0px 1px 3px 1px rgba(0, 0, 0, 0.15);\n",
              "      filter: drop-shadow(0px 1px 2px rgba(0, 0, 0, 0.3));\n",
              "      fill: #FFFFFF;\n",
              "    }\n",
              "  </style>\n",
              "\n",
              "      <script>\n",
              "        const buttonEl =\n",
              "          document.querySelector('#df-af1d2ce4-ebfb-45a9-a05c-2e7dd4ddcad0 button.colab-df-convert');\n",
              "        buttonEl.style.display =\n",
              "          google.colab.kernel.accessAllowed ? 'block' : 'none';\n",
              "\n",
              "        async function convertToInteractive(key) {\n",
              "          const element = document.querySelector('#df-af1d2ce4-ebfb-45a9-a05c-2e7dd4ddcad0');\n",
              "          const dataTable =\n",
              "            await google.colab.kernel.invokeFunction('convertToInteractive',\n",
              "                                                     [key], {});\n",
              "          if (!dataTable) return;\n",
              "\n",
              "          const docLinkHtml = 'Like what you see? Visit the ' +\n",
              "            '<a target=\"_blank\" href=https://colab.research.google.com/notebooks/data_table.ipynb>data table notebook</a>'\n",
              "            + ' to learn more about interactive tables.';\n",
              "          element.innerHTML = '';\n",
              "          dataTable['output_type'] = 'display_data';\n",
              "          await google.colab.output.renderOutput(dataTable, element);\n",
              "          const docLink = document.createElement('div');\n",
              "          docLink.innerHTML = docLinkHtml;\n",
              "          element.appendChild(docLink);\n",
              "        }\n",
              "      </script>\n",
              "    </div>\n",
              "  </div>\n",
              "  "
            ]
          },
          "metadata": {},
          "execution_count": 74
        }
      ]
    },
    {
      "cell_type": "code",
      "source": [
        "# 범주형 변수 -> 개별 값에서 마스크처럼 인코딩한 새로운 이진 열 추가\n",
        "patsy.dmatrices(\"y ~ - 1 + C(a)\", data=data, return_type=\"dataframe\")[1]"
      ],
      "metadata": {
        "colab": {
          "base_uri": "https://localhost:8080/",
          "height": 143
        },
        "id": "AqueSocRx8Mo",
        "outputId": "a6f1604f-7dc8-4b79-ce26-1067e1c189d6"
      },
      "execution_count": 75,
      "outputs": [
        {
          "output_type": "execute_result",
          "data": {
            "text/plain": [
              "   C(a)[1]  C(a)[2]  C(a)[3]\n",
              "0      1.0      0.0      0.0\n",
              "1      0.0      1.0      0.0\n",
              "2      0.0      0.0      1.0"
            ],
            "text/html": [
              "\n",
              "  <div id=\"df-e32d5660-c30a-4ee8-953e-873b0a26138d\">\n",
              "    <div class=\"colab-df-container\">\n",
              "      <div>\n",
              "<style scoped>\n",
              "    .dataframe tbody tr th:only-of-type {\n",
              "        vertical-align: middle;\n",
              "    }\n",
              "\n",
              "    .dataframe tbody tr th {\n",
              "        vertical-align: top;\n",
              "    }\n",
              "\n",
              "    .dataframe thead th {\n",
              "        text-align: right;\n",
              "    }\n",
              "</style>\n",
              "<table border=\"1\" class=\"dataframe\">\n",
              "  <thead>\n",
              "    <tr style=\"text-align: right;\">\n",
              "      <th></th>\n",
              "      <th>C(a)[1]</th>\n",
              "      <th>C(a)[2]</th>\n",
              "      <th>C(a)[3]</th>\n",
              "    </tr>\n",
              "  </thead>\n",
              "  <tbody>\n",
              "    <tr>\n",
              "      <th>0</th>\n",
              "      <td>1.0</td>\n",
              "      <td>0.0</td>\n",
              "      <td>0.0</td>\n",
              "    </tr>\n",
              "    <tr>\n",
              "      <th>1</th>\n",
              "      <td>0.0</td>\n",
              "      <td>1.0</td>\n",
              "      <td>0.0</td>\n",
              "    </tr>\n",
              "    <tr>\n",
              "      <th>2</th>\n",
              "      <td>0.0</td>\n",
              "      <td>0.0</td>\n",
              "      <td>1.0</td>\n",
              "    </tr>\n",
              "  </tbody>\n",
              "</table>\n",
              "</div>\n",
              "      <button class=\"colab-df-convert\" onclick=\"convertToInteractive('df-e32d5660-c30a-4ee8-953e-873b0a26138d')\"\n",
              "              title=\"Convert this dataframe to an interactive table.\"\n",
              "              style=\"display:none;\">\n",
              "        \n",
              "  <svg xmlns=\"http://www.w3.org/2000/svg\" height=\"24px\"viewBox=\"0 0 24 24\"\n",
              "       width=\"24px\">\n",
              "    <path d=\"M0 0h24v24H0V0z\" fill=\"none\"/>\n",
              "    <path d=\"M18.56 5.44l.94 2.06.94-2.06 2.06-.94-2.06-.94-.94-2.06-.94 2.06-2.06.94zm-11 1L8.5 8.5l.94-2.06 2.06-.94-2.06-.94L8.5 2.5l-.94 2.06-2.06.94zm10 10l.94 2.06.94-2.06 2.06-.94-2.06-.94-.94-2.06-.94 2.06-2.06.94z\"/><path d=\"M17.41 7.96l-1.37-1.37c-.4-.4-.92-.59-1.43-.59-.52 0-1.04.2-1.43.59L10.3 9.45l-7.72 7.72c-.78.78-.78 2.05 0 2.83L4 21.41c.39.39.9.59 1.41.59.51 0 1.02-.2 1.41-.59l7.78-7.78 2.81-2.81c.8-.78.8-2.07 0-2.86zM5.41 20L4 18.59l7.72-7.72 1.47 1.35L5.41 20z\"/>\n",
              "  </svg>\n",
              "      </button>\n",
              "      \n",
              "  <style>\n",
              "    .colab-df-container {\n",
              "      display:flex;\n",
              "      flex-wrap:wrap;\n",
              "      gap: 12px;\n",
              "    }\n",
              "\n",
              "    .colab-df-convert {\n",
              "      background-color: #E8F0FE;\n",
              "      border: none;\n",
              "      border-radius: 50%;\n",
              "      cursor: pointer;\n",
              "      display: none;\n",
              "      fill: #1967D2;\n",
              "      height: 32px;\n",
              "      padding: 0 0 0 0;\n",
              "      width: 32px;\n",
              "    }\n",
              "\n",
              "    .colab-df-convert:hover {\n",
              "      background-color: #E2EBFA;\n",
              "      box-shadow: 0px 1px 2px rgba(60, 64, 67, 0.3), 0px 1px 3px 1px rgba(60, 64, 67, 0.15);\n",
              "      fill: #174EA6;\n",
              "    }\n",
              "\n",
              "    [theme=dark] .colab-df-convert {\n",
              "      background-color: #3B4455;\n",
              "      fill: #D2E3FC;\n",
              "    }\n",
              "\n",
              "    [theme=dark] .colab-df-convert:hover {\n",
              "      background-color: #434B5C;\n",
              "      box-shadow: 0px 1px 3px 1px rgba(0, 0, 0, 0.15);\n",
              "      filter: drop-shadow(0px 1px 2px rgba(0, 0, 0, 0.3));\n",
              "      fill: #FFFFFF;\n",
              "    }\n",
              "  </style>\n",
              "\n",
              "      <script>\n",
              "        const buttonEl =\n",
              "          document.querySelector('#df-e32d5660-c30a-4ee8-953e-873b0a26138d button.colab-df-convert');\n",
              "        buttonEl.style.display =\n",
              "          google.colab.kernel.accessAllowed ? 'block' : 'none';\n",
              "\n",
              "        async function convertToInteractive(key) {\n",
              "          const element = document.querySelector('#df-e32d5660-c30a-4ee8-953e-873b0a26138d');\n",
              "          const dataTable =\n",
              "            await google.colab.kernel.invokeFunction('convertToInteractive',\n",
              "                                                     [key], {});\n",
              "          if (!dataTable) return;\n",
              "\n",
              "          const docLinkHtml = 'Like what you see? Visit the ' +\n",
              "            '<a target=\"_blank\" href=https://colab.research.google.com/notebooks/data_table.ipynb>data table notebook</a>'\n",
              "            + ' to learn more about interactive tables.';\n",
              "          element.innerHTML = '';\n",
              "          dataTable['output_type'] = 'display_data';\n",
              "          await google.colab.output.renderOutput(dataTable, element);\n",
              "          const docLink = document.createElement('div');\n",
              "          docLink.innerHTML = docLinkHtml;\n",
              "          element.appendChild(docLink);\n",
              "        }\n",
              "      </script>\n",
              "    </div>\n",
              "  </div>\n",
              "  "
            ]
          },
          "metadata": {},
          "execution_count": 75
        }
      ]
    },
    {
      "cell_type": "code",
      "source": [
        "# 비수치값 변수는 자동으로 변수형으로 해석해 처리\n",
        "data = {\"y\": [1, 2, 3], \"a\": [\"type A\", \"type B\", \"type C\"]}\n",
        "patsy.dmatrices(\"y ~ - 1 + a\", data=data, return_type=\"dataframe\")[1]"
      ],
      "metadata": {
        "colab": {
          "base_uri": "https://localhost:8080/",
          "height": 143
        },
        "id": "3gc22QfpyEZD",
        "outputId": "0e5f5115-71b0-4d8c-eaa0-1e178889d80e"
      },
      "execution_count": 76,
      "outputs": [
        {
          "output_type": "execute_result",
          "data": {
            "text/plain": [
              "   a[type A]  a[type B]  a[type C]\n",
              "0        1.0        0.0        0.0\n",
              "1        0.0        1.0        0.0\n",
              "2        0.0        0.0        1.0"
            ],
            "text/html": [
              "\n",
              "  <div id=\"df-81dda4fa-5e6f-47b6-a0df-b3dce4d73e2d\">\n",
              "    <div class=\"colab-df-container\">\n",
              "      <div>\n",
              "<style scoped>\n",
              "    .dataframe tbody tr th:only-of-type {\n",
              "        vertical-align: middle;\n",
              "    }\n",
              "\n",
              "    .dataframe tbody tr th {\n",
              "        vertical-align: top;\n",
              "    }\n",
              "\n",
              "    .dataframe thead th {\n",
              "        text-align: right;\n",
              "    }\n",
              "</style>\n",
              "<table border=\"1\" class=\"dataframe\">\n",
              "  <thead>\n",
              "    <tr style=\"text-align: right;\">\n",
              "      <th></th>\n",
              "      <th>a[type A]</th>\n",
              "      <th>a[type B]</th>\n",
              "      <th>a[type C]</th>\n",
              "    </tr>\n",
              "  </thead>\n",
              "  <tbody>\n",
              "    <tr>\n",
              "      <th>0</th>\n",
              "      <td>1.0</td>\n",
              "      <td>0.0</td>\n",
              "      <td>0.0</td>\n",
              "    </tr>\n",
              "    <tr>\n",
              "      <th>1</th>\n",
              "      <td>0.0</td>\n",
              "      <td>1.0</td>\n",
              "      <td>0.0</td>\n",
              "    </tr>\n",
              "    <tr>\n",
              "      <th>2</th>\n",
              "      <td>0.0</td>\n",
              "      <td>0.0</td>\n",
              "      <td>1.0</td>\n",
              "    </tr>\n",
              "  </tbody>\n",
              "</table>\n",
              "</div>\n",
              "      <button class=\"colab-df-convert\" onclick=\"convertToInteractive('df-81dda4fa-5e6f-47b6-a0df-b3dce4d73e2d')\"\n",
              "              title=\"Convert this dataframe to an interactive table.\"\n",
              "              style=\"display:none;\">\n",
              "        \n",
              "  <svg xmlns=\"http://www.w3.org/2000/svg\" height=\"24px\"viewBox=\"0 0 24 24\"\n",
              "       width=\"24px\">\n",
              "    <path d=\"M0 0h24v24H0V0z\" fill=\"none\"/>\n",
              "    <path d=\"M18.56 5.44l.94 2.06.94-2.06 2.06-.94-2.06-.94-.94-2.06-.94 2.06-2.06.94zm-11 1L8.5 8.5l.94-2.06 2.06-.94-2.06-.94L8.5 2.5l-.94 2.06-2.06.94zm10 10l.94 2.06.94-2.06 2.06-.94-2.06-.94-.94-2.06-.94 2.06-2.06.94z\"/><path d=\"M17.41 7.96l-1.37-1.37c-.4-.4-.92-.59-1.43-.59-.52 0-1.04.2-1.43.59L10.3 9.45l-7.72 7.72c-.78.78-.78 2.05 0 2.83L4 21.41c.39.39.9.59 1.41.59.51 0 1.02-.2 1.41-.59l7.78-7.78 2.81-2.81c.8-.78.8-2.07 0-2.86zM5.41 20L4 18.59l7.72-7.72 1.47 1.35L5.41 20z\"/>\n",
              "  </svg>\n",
              "      </button>\n",
              "      \n",
              "  <style>\n",
              "    .colab-df-container {\n",
              "      display:flex;\n",
              "      flex-wrap:wrap;\n",
              "      gap: 12px;\n",
              "    }\n",
              "\n",
              "    .colab-df-convert {\n",
              "      background-color: #E8F0FE;\n",
              "      border: none;\n",
              "      border-radius: 50%;\n",
              "      cursor: pointer;\n",
              "      display: none;\n",
              "      fill: #1967D2;\n",
              "      height: 32px;\n",
              "      padding: 0 0 0 0;\n",
              "      width: 32px;\n",
              "    }\n",
              "\n",
              "    .colab-df-convert:hover {\n",
              "      background-color: #E2EBFA;\n",
              "      box-shadow: 0px 1px 2px rgba(60, 64, 67, 0.3), 0px 1px 3px 1px rgba(60, 64, 67, 0.15);\n",
              "      fill: #174EA6;\n",
              "    }\n",
              "\n",
              "    [theme=dark] .colab-df-convert {\n",
              "      background-color: #3B4455;\n",
              "      fill: #D2E3FC;\n",
              "    }\n",
              "\n",
              "    [theme=dark] .colab-df-convert:hover {\n",
              "      background-color: #434B5C;\n",
              "      box-shadow: 0px 1px 3px 1px rgba(0, 0, 0, 0.15);\n",
              "      filter: drop-shadow(0px 1px 2px rgba(0, 0, 0, 0.3));\n",
              "      fill: #FFFFFF;\n",
              "    }\n",
              "  </style>\n",
              "\n",
              "      <script>\n",
              "        const buttonEl =\n",
              "          document.querySelector('#df-81dda4fa-5e6f-47b6-a0df-b3dce4d73e2d button.colab-df-convert');\n",
              "        buttonEl.style.display =\n",
              "          google.colab.kernel.accessAllowed ? 'block' : 'none';\n",
              "\n",
              "        async function convertToInteractive(key) {\n",
              "          const element = document.querySelector('#df-81dda4fa-5e6f-47b6-a0df-b3dce4d73e2d');\n",
              "          const dataTable =\n",
              "            await google.colab.kernel.invokeFunction('convertToInteractive',\n",
              "                                                     [key], {});\n",
              "          if (!dataTable) return;\n",
              "\n",
              "          const docLinkHtml = 'Like what you see? Visit the ' +\n",
              "            '<a target=\"_blank\" href=https://colab.research.google.com/notebooks/data_table.ipynb>data table notebook</a>'\n",
              "            + ' to learn more about interactive tables.';\n",
              "          element.innerHTML = '';\n",
              "          dataTable['output_type'] = 'display_data';\n",
              "          await google.colab.output.renderOutput(dataTable, element);\n",
              "          const docLink = document.createElement('div');\n",
              "          docLink.innerHTML = docLinkHtml;\n",
              "          element.appendChild(docLink);\n",
              "        }\n",
              "      </script>\n",
              "    </div>\n",
              "  </div>\n",
              "  "
            ]
          },
          "metadata": {},
          "execution_count": 76
        }
      ]
    },
    {
      "cell_type": "code",
      "source": [
        "# 범주형 변수의 인코딩 유형은 변경 가능\n",
        "# C(a, Poly)의 경우 직교 다항식\n",
        "patsy.dmatrices(\"y ~ - 1 + C(a, Poly)\", data=data, return_type=\"dataframe\")[1]"
      ],
      "metadata": {
        "colab": {
          "base_uri": "https://localhost:8080/",
          "height": 143
        },
        "id": "8_fW9NwzyRUl",
        "outputId": "e6f845c5-9f46-49e5-ba14-4f3725958f69"
      },
      "execution_count": 77,
      "outputs": [
        {
          "output_type": "execute_result",
          "data": {
            "text/plain": [
              "   C(a, Poly).Constant  C(a, Poly).Linear  C(a, Poly).Quadratic\n",
              "0                  1.0      -7.071068e-01              0.408248\n",
              "1                  1.0      -5.551115e-17             -0.816497\n",
              "2                  1.0       7.071068e-01              0.408248"
            ],
            "text/html": [
              "\n",
              "  <div id=\"df-21ed0202-2bf4-47da-92bb-35931d71f70d\">\n",
              "    <div class=\"colab-df-container\">\n",
              "      <div>\n",
              "<style scoped>\n",
              "    .dataframe tbody tr th:only-of-type {\n",
              "        vertical-align: middle;\n",
              "    }\n",
              "\n",
              "    .dataframe tbody tr th {\n",
              "        vertical-align: top;\n",
              "    }\n",
              "\n",
              "    .dataframe thead th {\n",
              "        text-align: right;\n",
              "    }\n",
              "</style>\n",
              "<table border=\"1\" class=\"dataframe\">\n",
              "  <thead>\n",
              "    <tr style=\"text-align: right;\">\n",
              "      <th></th>\n",
              "      <th>C(a, Poly).Constant</th>\n",
              "      <th>C(a, Poly).Linear</th>\n",
              "      <th>C(a, Poly).Quadratic</th>\n",
              "    </tr>\n",
              "  </thead>\n",
              "  <tbody>\n",
              "    <tr>\n",
              "      <th>0</th>\n",
              "      <td>1.0</td>\n",
              "      <td>-7.071068e-01</td>\n",
              "      <td>0.408248</td>\n",
              "    </tr>\n",
              "    <tr>\n",
              "      <th>1</th>\n",
              "      <td>1.0</td>\n",
              "      <td>-5.551115e-17</td>\n",
              "      <td>-0.816497</td>\n",
              "    </tr>\n",
              "    <tr>\n",
              "      <th>2</th>\n",
              "      <td>1.0</td>\n",
              "      <td>7.071068e-01</td>\n",
              "      <td>0.408248</td>\n",
              "    </tr>\n",
              "  </tbody>\n",
              "</table>\n",
              "</div>\n",
              "      <button class=\"colab-df-convert\" onclick=\"convertToInteractive('df-21ed0202-2bf4-47da-92bb-35931d71f70d')\"\n",
              "              title=\"Convert this dataframe to an interactive table.\"\n",
              "              style=\"display:none;\">\n",
              "        \n",
              "  <svg xmlns=\"http://www.w3.org/2000/svg\" height=\"24px\"viewBox=\"0 0 24 24\"\n",
              "       width=\"24px\">\n",
              "    <path d=\"M0 0h24v24H0V0z\" fill=\"none\"/>\n",
              "    <path d=\"M18.56 5.44l.94 2.06.94-2.06 2.06-.94-2.06-.94-.94-2.06-.94 2.06-2.06.94zm-11 1L8.5 8.5l.94-2.06 2.06-.94-2.06-.94L8.5 2.5l-.94 2.06-2.06.94zm10 10l.94 2.06.94-2.06 2.06-.94-2.06-.94-.94-2.06-.94 2.06-2.06.94z\"/><path d=\"M17.41 7.96l-1.37-1.37c-.4-.4-.92-.59-1.43-.59-.52 0-1.04.2-1.43.59L10.3 9.45l-7.72 7.72c-.78.78-.78 2.05 0 2.83L4 21.41c.39.39.9.59 1.41.59.51 0 1.02-.2 1.41-.59l7.78-7.78 2.81-2.81c.8-.78.8-2.07 0-2.86zM5.41 20L4 18.59l7.72-7.72 1.47 1.35L5.41 20z\"/>\n",
              "  </svg>\n",
              "      </button>\n",
              "      \n",
              "  <style>\n",
              "    .colab-df-container {\n",
              "      display:flex;\n",
              "      flex-wrap:wrap;\n",
              "      gap: 12px;\n",
              "    }\n",
              "\n",
              "    .colab-df-convert {\n",
              "      background-color: #E8F0FE;\n",
              "      border: none;\n",
              "      border-radius: 50%;\n",
              "      cursor: pointer;\n",
              "      display: none;\n",
              "      fill: #1967D2;\n",
              "      height: 32px;\n",
              "      padding: 0 0 0 0;\n",
              "      width: 32px;\n",
              "    }\n",
              "\n",
              "    .colab-df-convert:hover {\n",
              "      background-color: #E2EBFA;\n",
              "      box-shadow: 0px 1px 2px rgba(60, 64, 67, 0.3), 0px 1px 3px 1px rgba(60, 64, 67, 0.15);\n",
              "      fill: #174EA6;\n",
              "    }\n",
              "\n",
              "    [theme=dark] .colab-df-convert {\n",
              "      background-color: #3B4455;\n",
              "      fill: #D2E3FC;\n",
              "    }\n",
              "\n",
              "    [theme=dark] .colab-df-convert:hover {\n",
              "      background-color: #434B5C;\n",
              "      box-shadow: 0px 1px 3px 1px rgba(0, 0, 0, 0.15);\n",
              "      filter: drop-shadow(0px 1px 2px rgba(0, 0, 0, 0.3));\n",
              "      fill: #FFFFFF;\n",
              "    }\n",
              "  </style>\n",
              "\n",
              "      <script>\n",
              "        const buttonEl =\n",
              "          document.querySelector('#df-21ed0202-2bf4-47da-92bb-35931d71f70d button.colab-df-convert');\n",
              "        buttonEl.style.display =\n",
              "          google.colab.kernel.accessAllowed ? 'block' : 'none';\n",
              "\n",
              "        async function convertToInteractive(key) {\n",
              "          const element = document.querySelector('#df-21ed0202-2bf4-47da-92bb-35931d71f70d');\n",
              "          const dataTable =\n",
              "            await google.colab.kernel.invokeFunction('convertToInteractive',\n",
              "                                                     [key], {});\n",
              "          if (!dataTable) return;\n",
              "\n",
              "          const docLinkHtml = 'Like what you see? Visit the ' +\n",
              "            '<a target=\"_blank\" href=https://colab.research.google.com/notebooks/data_table.ipynb>data table notebook</a>'\n",
              "            + ' to learn more about interactive tables.';\n",
              "          element.innerHTML = '';\n",
              "          dataTable['output_type'] = 'display_data';\n",
              "          await google.colab.output.renderOutput(dataTable, element);\n",
              "          const docLink = document.createElement('div');\n",
              "          docLink.innerHTML = docLinkHtml;\n",
              "          element.appendChild(docLink);\n",
              "        }\n",
              "      </script>\n",
              "    </div>\n",
              "  </div>\n",
              "  "
            ]
          },
          "metadata": {},
          "execution_count": 77
        }
      ]
    },
    {
      "cell_type": "markdown",
      "source": [
        "## 선형 회귀\n",
        "**statsmodel로 통계 모델 설정하고 분석하는 기본 작업 흐름**\n",
        "1. 모델 클래스의 인스턴스 생성\n",
        "2. fit 메서드를 이용해 적합화 수행\n",
        "3. fit 메서드가 반환한 결과 객체의 요약 통계량 출력\n",
        "4. 모델 적합화 결과 후처리\n",
        "5. 적합화 결과 시각화\n",
        "\n",
        "실제 값이 y = 1 + 2x<sub>I</sub> + 3x<sub>2</sub> + 4x<sub>I</sub>x<sub>2</sub>인 모델에서 생성된 데이터 적합화하기"
      ],
      "metadata": {
        "id": "aD3ZYSzmyhWH"
      }
    },
    {
      "cell_type": "code",
      "source": [
        "N = 100\n",
        "x1 = np.random.randn(N)\n",
        "x2 = np.random.randn(N)\n",
        "data = pd.DataFrame({\"x1\": x1, \"x2\": x2})\n",
        "def y_true(x1, x2):\n",
        "    return 1  + 2 * x1 + 3 * x2 + 4 * x1 * x2\n",
        "\n",
        "data[\"y_true\"] = y_true(x1, x2)\n",
        "\n",
        "e = 0.5 * np.random.randn(N)\n",
        "data[\"y\"] = data[\"y_true\"] + e # 참 값에 정규분포하는 잡음 추가\n",
        "\n",
        "model = smf.ols(\"y ~ x1 + x2\", data) # 반응 변수는 연속적이므로 최소 자승 사용\n",
        "result = model.fit()\n",
        "print(result.summary())"
      ],
      "metadata": {
        "colab": {
          "base_uri": "https://localhost:8080/"
        },
        "id": "7nhorVLsyezB",
        "outputId": "3d924e03-32b0-4e1b-ac5b-fbff53059220"
      },
      "execution_count": 78,
      "outputs": [
        {
          "output_type": "stream",
          "name": "stdout",
          "text": [
            "                            OLS Regression Results                            \n",
            "==============================================================================\n",
            "Dep. Variable:                      y   R-squared:                       0.543\n",
            "Model:                            OLS   Adj. R-squared:                  0.534\n",
            "Method:                 Least Squares   F-statistic:                     57.74\n",
            "Date:                Mon, 08 Aug 2022   Prob (F-statistic):           3.05e-17\n",
            "Time:                        04:24:59   Log-Likelihood:                -266.62\n",
            "No. Observations:                 100   AIC:                             539.2\n",
            "Df Residuals:                      97   BIC:                             547.1\n",
            "Df Model:                           2                                         \n",
            "Covariance Type:            nonrobust                                         \n",
            "==============================================================================\n",
            "                 coef    std err          t      P>|t|      [0.025      0.975]\n",
            "------------------------------------------------------------------------------\n",
            "Intercept      0.6366      0.359      1.774      0.079      -0.075       1.349\n",
            "x1             1.8344      0.325      5.641      0.000       1.189       2.480\n",
            "x2             3.4774      0.367      9.464      0.000       2.748       4.207\n",
            "==============================================================================\n",
            "Omnibus:                       26.529   Durbin-Watson:                   2.064\n",
            "Prob(Omnibus):                  0.000   Jarque-Bera (JB):               78.222\n",
            "Skew:                          -0.853   Prob(JB):                     1.03e-17\n",
            "Kurtosis:                       6.983   Cond. No.                         1.24\n",
            "==============================================================================\n",
            "\n",
            "Warnings:\n",
            "[1] Standard Errors assume that the covariance matrix of the errors is correctly specified.\n"
          ]
        }
      ]
    },
    {
      "cell_type": "markdown",
      "source": [
        "**R-제곱값**: 0~1 사이 값이며 1에 가까울수록 완벽히 적합화 된다는 뜻    \n",
        "**coef 칼럼** : 적합화된 모델 매개변수를 보여줌"
      ],
      "metadata": {
        "id": "uJqFPzCB0ibk"
      }
    },
    {
      "cell_type": "code",
      "source": [
        "result.rsquared"
      ],
      "metadata": {
        "colab": {
          "base_uri": "https://localhost:8080/"
        },
        "id": "nJHYHb2ozf5F",
        "outputId": "54b2cce6-38cd-4c66-d73c-4940b2df2642"
      },
      "execution_count": 79,
      "outputs": [
        {
          "output_type": "execute_result",
          "data": {
            "text/plain": [
              "0.5434689230696133"
            ]
          },
          "metadata": {},
          "execution_count": 79
        }
      ]
    },
    {
      "cell_type": "code",
      "source": [
        "# 오차가 정규분포한다는 가정이 정당한지 모델의 잔차 살펴보기\n",
        "result.resid.head()"
      ],
      "metadata": {
        "colab": {
          "base_uri": "https://localhost:8080/"
        },
        "id": "i-FwRcbX01u-",
        "outputId": "599fcf67-f7f1-4f92-ad0e-32624fcec061"
      },
      "execution_count": 80,
      "outputs": [
        {
          "output_type": "execute_result",
          "data": {
            "text/plain": [
              "0    0.183198\n",
              "1   -0.370983\n",
              "2   -0.756723\n",
              "3    0.440228\n",
              "4   -2.043042\n",
              "dtype: float64"
            ]
          },
          "metadata": {},
          "execution_count": 80
        }
      ]
    },
    {
      "cell_type": "code",
      "source": [
        "# 잔차를 이용해 normaltest 함수 사용하면 정규성 확인 가능\n",
        "z, p = stats.normaltest(result.resid.values)\n",
        "p"
      ],
      "metadata": {
        "colab": {
          "base_uri": "https://localhost:8080/"
        },
        "id": "U5zq4ezY5cbZ",
        "outputId": "fbfc516b-0fce-425d-e1e0-0a30d25e70c5"
      },
      "execution_count": 81,
      "outputs": [
        {
          "output_type": "execute_result",
          "data": {
            "text/plain": [
              "1.7347101205823256e-06"
            ]
          },
          "metadata": {},
          "execution_count": 81
        }
      ]
    },
    {
      "cell_type": "markdown",
      "source": [
        "이 예제의 결과 p가 매우 작기 때문에 잔차가 정규분포한다는 귀무 가설 기각 가능"
      ],
      "metadata": {
        "id": "9-o-jr125otW"
      }
    },
    {
      "cell_type": "code",
      "source": [
        "# 표본의 정규성 검사\n",
        "# 표본이 실제로 정규분포 한다면 직선에 가까워야 함\n",
        "fig, ax = plt.subplots(figsize=(8, 4))\n",
        "smg.qqplot(result.resid, ax=ax)\n",
        "fig.tight_layout()"
      ],
      "metadata": {
        "colab": {
          "base_uri": "https://localhost:8080/",
          "height": 297
        },
        "id": "EyGE0IEX5kWt",
        "outputId": "37f196f8-5a40-4c04-889c-448c541696a0"
      },
      "execution_count": 82,
      "outputs": [
        {
          "output_type": "display_data",
          "data": {
            "text/plain": [
              "<Figure size 576x288 with 1 Axes>"
            ],
            "image/png": "[encoded data removed]"
          },
          "metadata": {
            "needs_background": "light"
          }
        }
      ]
    },
    {
      "cell_type": "markdown",
      "source": [
        "위의 그래프 결과 관측된 잔차가 정규 분포 확률 변수의 표본일 가능성이 낮음   \n",
        "-> 다시 이전 분석 단계 반복하기"
      ],
      "metadata": {
        "id": "J0toNEaj5-75"
      }
    },
    {
      "cell_type": "code",
      "source": [
        "model = smf.ols(\"y ~ x1 + x2 + x1*x2\", data)\n",
        "result = model.fit()\n",
        "print(result.summary())"
      ],
      "metadata": {
        "colab": {
          "base_uri": "https://localhost:8080/"
        },
        "id": "WeUg9QsF53wO",
        "outputId": "5d4e631a-8dd0-40ca-c888-2645097a79a1"
      },
      "execution_count": 83,
      "outputs": [
        {
          "output_type": "stream",
          "name": "stdout",
          "text": [
            "                            OLS Regression Results                            \n",
            "==============================================================================\n",
            "Dep. Variable:                      y   R-squared:                       0.989\n",
            "Model:                            OLS   Adj. R-squared:                  0.989\n",
            "Method:                 Least Squares   F-statistic:                     2967.\n",
            "Date:                Mon, 08 Aug 2022   Prob (F-statistic):           1.77e-94\n",
            "Time:                        04:25:00   Log-Likelihood:                -78.814\n",
            "No. Observations:                 100   AIC:                             165.6\n",
            "Df Residuals:                      96   BIC:                             176.0\n",
            "Df Model:                           3                                         \n",
            "Covariance Type:            nonrobust                                         \n",
            "==============================================================================\n",
            "                 coef    std err          t      P>|t|      [0.025      0.975]\n",
            "------------------------------------------------------------------------------\n",
            "Intercept      1.0220      0.055     18.424      0.000       0.912       1.132\n",
            "x1             2.0328      0.050     40.597      0.000       1.933       2.132\n",
            "x2             3.0127      0.057     52.909      0.000       2.900       3.126\n",
            "x1:x2          4.0192      0.063     63.334      0.000       3.893       4.145\n",
            "==============================================================================\n",
            "Omnibus:                        1.662   Durbin-Watson:                   1.910\n",
            "Prob(Omnibus):                  0.436   Jarque-Bera (JB):                1.465\n",
            "Skew:                          -0.156   Prob(JB):                        0.481\n",
            "Kurtosis:                       2.496   Cond. No.                         1.42\n",
            "==============================================================================\n",
            "\n",
            "Warnings:\n",
            "[1] Standard Errors assume that the covariance matrix of the errors is correctly specified.\n"
          ]
        }
      ]
    },
    {
      "cell_type": "markdown",
      "source": [
        "R-제곱 통계량이 0.9916로 상당히 높으므로 모델과 데이터 사이에 완벽한 일치가 나타남"
      ],
      "metadata": {
        "id": "h38-FQhW6Vjh"
      }
    },
    {
      "cell_type": "code",
      "source": [
        "result.rsquared"
      ],
      "metadata": {
        "colab": {
          "base_uri": "https://localhost:8080/"
        },
        "id": "oYnw5LIt6bRI",
        "outputId": "95248a61-438a-4d12-be36-d18016c74b40"
      },
      "execution_count": 84,
      "outputs": [
        {
          "output_type": "execute_result",
          "data": {
            "text/plain": [
              "0.9893290940467027"
            ]
          },
          "metadata": {},
          "execution_count": 84
        }
      ]
    },
    {
      "cell_type": "code",
      "source": [
        "z, p = stats.normaltest(result.resid.values)\n",
        "p"
      ],
      "metadata": {
        "colab": {
          "base_uri": "https://localhost:8080/"
        },
        "id": "PeNoGWAS6fH1",
        "outputId": "943cc236-9010-46e5-ab41-89c3073f5c64"
      },
      "execution_count": 85,
      "outputs": [
        {
          "output_type": "execute_result",
          "data": {
            "text/plain": [
              "0.4355606789006228"
            ]
          },
          "metadata": {},
          "execution_count": 85
        }
      ]
    },
    {
      "cell_type": "code",
      "source": [
        "fig, ax = plt.subplots(figsize=(8, 4))\n",
        "smg.qqplot(result.resid, ax=ax)\n",
        "\n",
        "fig.tight_layout()"
      ],
      "metadata": {
        "colab": {
          "base_uri": "https://localhost:8080/",
          "height": 297
        },
        "id": "F-A8qoHm6lF3",
        "outputId": "7301106d-9a50-4bbc-d008-fdd437550982"
      },
      "execution_count": 86,
      "outputs": [
        {
          "output_type": "display_data",
          "data": {
            "text/plain": [
              "<Figure size 576x288 with 1 Axes>"
            ],
            "image/png": "[encoded data removed]"
          },
          "metadata": {
            "needs_background": "light"
          }
        }
      ]
    },
    {
      "cell_type": "code",
      "source": [
        "# 모델의 적합도에 만족한다면 params 속성을 사용해 모델 계수 추출\n",
        "result.params"
      ],
      "metadata": {
        "colab": {
          "base_uri": "https://localhost:8080/"
        },
        "id": "NpLYb6g_6oUm",
        "outputId": "bb0413b7-d80e-41b2-b8c0-d54b2f91b6a8"
      },
      "execution_count": 87,
      "outputs": [
        {
          "output_type": "execute_result",
          "data": {
            "text/plain": [
              "Intercept    1.021981\n",
              "x1           2.032800\n",
              "x2           3.012726\n",
              "x1:x2        4.019227\n",
              "dtype: float64"
            ]
          },
          "metadata": {},
          "execution_count": 87
        }
      ]
    },
    {
      "cell_type": "code",
      "source": [
        "x = np.linspace(-1, 1, 50)\n",
        "X1, X2 = np.meshgrid(x, x)\n",
        "new_data = pd.DataFrame({\"x1\": X1.ravel(), \"x2\": X2.ravel()})\n",
        "y_pred = result.predict(new_data) # 예측\n",
        "y_pred.shape"
      ],
      "metadata": {
        "colab": {
          "base_uri": "https://localhost:8080/"
        },
        "id": "baMaqiZv6xEU",
        "outputId": "a04b68d1-a2fd-4a85-aa18-bbc2ac2ce1d5"
      },
      "execution_count": 88,
      "outputs": [
        {
          "output_type": "execute_result",
          "data": {
            "text/plain": [
              "(2500,)"
            ]
          },
          "metadata": {},
          "execution_count": 88
        }
      ]
    },
    {
      "cell_type": "code",
      "source": [
        "# 도식화 하기 위해 크기를 정방 행렬로 조정\n",
        "y_pred = y_pred.values.reshape(50, 50)"
      ],
      "metadata": {
        "id": "WkWZUnZ17CbR"
      },
      "execution_count": 89,
      "outputs": []
    },
    {
      "cell_type": "code",
      "source": [
        "# 참 모델과 참 모델에 정규분포하는 노이즈를 추가한 100개 표본에 적합화한 모델\n",
        "fig, axes = plt.subplots(1, 2, figsize=(12, 5), sharey=True)\n",
        "\n",
        "def plot_y_contour(ax, Y, title):\n",
        "    c = ax.contourf(X1, X2, Y, 15, cmap=plt.cm.RdBu)\n",
        "    ax.set_xlabel(r\"$x_1$\", fontsize=20)\n",
        "    ax.set_ylabel(r\"$x_2$\", fontsize=20)\n",
        "    ax.set_title(title)\n",
        "    cb = fig.colorbar(c, ax=ax)\n",
        "    cb.set_label(r\"$y$\", fontsize=20)\n",
        "\n",
        "plot_y_contour(axes[0], y_true(X1, X2), \"true relation\")\n",
        "plot_y_contour(axes[1], y_pred, \"fitted model\")\n",
        "\n",
        "fig.tight_layout()"
      ],
      "metadata": {
        "colab": {
          "base_uri": "https://localhost:8080/",
          "height": 369
        },
        "id": "I9unJ2tu7Gt0",
        "outputId": "a4ebccbb-f0ae-4463-f627-7e6e31ba79b6"
      },
      "execution_count": 90,
      "outputs": [
        {
          "output_type": "display_data",
          "data": {
            "text/plain": [
              "<Figure size 864x360 with 4 Axes>"
            ],
            "image/png": "[encoded data removed]"
          },
          "metadata": {
            "needs_background": "light"
          }
        }
      ]
    },
    {
      "cell_type": "markdown",
      "source": [
        "## 예제 데이터셋"
      ],
      "metadata": {
        "id": "z5Q4ZqUR7buF"
      }
    },
    {
      "cell_type": "code",
      "source": [
        "dataset = sm.datasets.get_rdataset(\"Icecream\", \"Ecdat\")\n",
        "dataset.title"
      ],
      "metadata": {
        "colab": {
          "base_uri": "https://localhost:8080/",
          "height": 35
        },
        "id": "JT-nWOrF7KYd",
        "outputId": "e24477da-76fa-4868-c82d-15bdea4ed50c"
      },
      "execution_count": 91,
      "outputs": [
        {
          "output_type": "execute_result",
          "data": {
            "text/plain": [
              "'Ice Cream Consumption'"
            ],
            "application/vnd.google.colaboratory.intrinsic+json": {
              "type": "string"
            }
          },
          "metadata": {},
          "execution_count": 91
        }
      ]
    },
    {
      "cell_type": "code",
      "source": [
        "dataset.data.info()"
      ],
      "metadata": {
        "colab": {
          "base_uri": "https://localhost:8080/"
        },
        "id": "_aa5ARJG7jCJ",
        "outputId": "216ed6ad-f808-40e0-d8bc-ef5cc52bd532"
      },
      "execution_count": 92,
      "outputs": [
        {
          "output_type": "stream",
          "name": "stdout",
          "text": [
            "<class 'pandas.core.frame.DataFrame'>\n",
            "RangeIndex: 30 entries, 0 to 29\n",
            "Data columns (total 4 columns):\n",
            " #   Column  Non-Null Count  Dtype  \n",
            "---  ------  --------------  -----  \n",
            " 0   cons    30 non-null     float64\n",
            " 1   income  30 non-null     int64  \n",
            " 2   price   30 non-null     float64\n",
            " 3   temp    30 non-null     int64  \n",
            "dtypes: float64(2), int64(2)\n",
            "memory usage: 1.1 KB\n"
          ]
        }
      ]
    },
    {
      "cell_type": "code",
      "source": [
        "# 가격과 기온을 독립 변수로 하는 선형 모델로 소비량을 모델링\n",
        "model = smf.ols(\"cons ~ -1 + price + temp\", data=dataset.data)\n",
        "result = model.fit()\n",
        "\n",
        "# 회귀 그래프 도식화\n",
        "fig, (ax1, ax2) = plt.subplots(1, 2, figsize=(12, 4))\n",
        "smg.plot_fit(result, 0, ax=ax1)\n",
        "smg.plot_fit(result, 1, ax=ax2)\n",
        "\n",
        "fig.tight_layout()"
      ],
      "metadata": {
        "colab": {
          "base_uri": "https://localhost:8080/",
          "height": 297
        },
        "id": "7f1beJHw7pFO",
        "outputId": "95f3d4aa-52bf-4e8e-8eef-34d4f75ea7e9"
      },
      "execution_count": 93,
      "outputs": [
        {
          "output_type": "display_data",
          "data": {
            "text/plain": [
              "<Figure size 864x288 with 2 Axes>"
            ],
            "image/png": "[encoded data removed]"
          },
          "metadata": {
            "needs_background": "light"
          }
        }
      ]
    },
    {
      "cell_type": "markdown",
      "source": [
        "그림의 결과 Icecream 데이터셋에서 **소비와 기온은 선형적으로 상관 관계가 있는 것**으로 보이지만 가격에 대한 종속성은 명확하지 않음\n",
        "\n",
        "## 이산 회귀 분석\n",
        "적절한 변환을 사용하여 선형 예측 변수를 다른 이산 결과의 확률로 해석할 수 있는 구간으로 **매핑**하기\n",
        "\n",
        "### 로지스틱 회귀\n"
      ],
      "metadata": {
        "id": "utowNQoX8BYK"
      }
    },
    {
      "cell_type": "code",
      "source": [
        "df = sm.datasets.get_rdataset(\"iris\").data # 붓꽃 데이터셋\n",
        "df.info()"
      ],
      "metadata": {
        "colab": {
          "base_uri": "https://localhost:8080/"
        },
        "id": "hkzWFetz77WK",
        "outputId": "9668675a-7cc5-464e-95ed-b6f1a2119db2"
      },
      "execution_count": 94,
      "outputs": [
        {
          "output_type": "stream",
          "name": "stdout",
          "text": [
            "<class 'pandas.core.frame.DataFrame'>\n",
            "RangeIndex: 150 entries, 0 to 149\n",
            "Data columns (total 5 columns):\n",
            " #   Column        Non-Null Count  Dtype  \n",
            "---  ------        --------------  -----  \n",
            " 0   Sepal.Length  150 non-null    float64\n",
            " 1   Sepal.Width   150 non-null    float64\n",
            " 2   Petal.Length  150 non-null    float64\n",
            " 3   Petal.Width   150 non-null    float64\n",
            " 4   Species       150 non-null    object \n",
            "dtypes: float64(4), object(1)\n",
            "memory usage: 6.0+ KB\n"
          ]
        }
      ]
    },
    {
      "cell_type": "code",
      "source": [
        "df.Species.unique() # Species 열의 고유한 종 유형 개수"
      ],
      "metadata": {
        "colab": {
          "base_uri": "https://localhost:8080/"
        },
        "id": "2m1f8xSc9F_k",
        "outputId": "6c373464-f915-461a-e4c1-c79a540b274a"
      },
      "execution_count": 95,
      "outputs": [
        {
          "output_type": "execute_result",
          "data": {
            "text/plain": [
              "array(['setosa', 'versicolor', 'virginica'], dtype=object)"
            ]
          },
          "metadata": {},
          "execution_count": 95
        }
      ]
    },
    {
      "cell_type": "code",
      "source": [
        "# 이항 변수를 구하기 위해 versicolor, virginica 두 종 데이터만 초점 맞추기\n",
        "df_subset = df[df.Species.isin([\"versicolor\", \"virginica\"])].copy()\n",
        "\n",
        "# 이진값 0과 1로 매핑\n",
        "df_subset.Species = df_subset.Species.map({\"versicolor\": 1, \"virginica\": 0})\n",
        "\n",
        "df_subset.rename(columns={\"Sepal.Length\": \"Sepal_Length\", \"Sepal.Width\": \"Sepal_Width\",\n",
        "                          \"Petal.Length\": \"Petal_Length\", \"Petal.Width\": \"Petal_Width\"}, inplace=True)\n",
        "\n",
        "df_subset.head(3)"
      ],
      "metadata": {
        "colab": {
          "base_uri": "https://localhost:8080/",
          "height": 143
        },
        "id": "p3SrMXW49Kt9",
        "outputId": "f137a1c8-53af-4e9a-c6b7-2b6f8300e11f"
      },
      "execution_count": 96,
      "outputs": [
        {
          "output_type": "execute_result",
          "data": {
            "text/plain": [
              "    Sepal_Length  Sepal_Width  Petal_Length  Petal_Width  Species\n",
              "50           7.0          3.2           4.7          1.4        1\n",
              "51           6.4          3.2           4.5          1.5        1\n",
              "52           6.9          3.1           4.9          1.5        1"
            ],
            "text/html": [
              "\n",
              "  <div id=\"df-0b71ef48-48b8-4a60-a478-f43e08e00739\">\n",
              "    <div class=\"colab-df-container\">\n",
              "      <div>\n",
              "<style scoped>\n",
              "    .dataframe tbody tr th:only-of-type {\n",
              "        vertical-align: middle;\n",
              "    }\n",
              "\n",
              "    .dataframe tbody tr th {\n",
              "        vertical-align: top;\n",
              "    }\n",
              "\n",
              "    .dataframe thead th {\n",
              "        text-align: right;\n",
              "    }\n",
              "</style>\n",
              "<table border=\"1\" class=\"dataframe\">\n",
              "  <thead>\n",
              "    <tr style=\"text-align: right;\">\n",
              "      <th></th>\n",
              "      <th>Sepal_Length</th>\n",
              "      <th>Sepal_Width</th>\n",
              "      <th>Petal_Length</th>\n",
              "      <th>Petal_Width</th>\n",
              "      <th>Species</th>\n",
              "    </tr>\n",
              "  </thead>\n",
              "  <tbody>\n",
              "    <tr>\n",
              "      <th>50</th>\n",
              "      <td>7.0</td>\n",
              "      <td>3.2</td>\n",
              "      <td>4.7</td>\n",
              "      <td>1.4</td>\n",
              "      <td>1</td>\n",
              "    </tr>\n",
              "    <tr>\n",
              "      <th>51</th>\n",
              "      <td>6.4</td>\n",
              "      <td>3.2</td>\n",
              "      <td>4.5</td>\n",
              "      <td>1.5</td>\n",
              "      <td>1</td>\n",
              "    </tr>\n",
              "    <tr>\n",
              "      <th>52</th>\n",
              "      <td>6.9</td>\n",
              "      <td>3.1</td>\n",
              "      <td>4.9</td>\n",
              "      <td>1.5</td>\n",
              "      <td>1</td>\n",
              "    </tr>\n",
              "  </tbody>\n",
              "</table>\n",
              "</div>\n",
              "      <button class=\"colab-df-convert\" onclick=\"convertToInteractive('df-0b71ef48-48b8-4a60-a478-f43e08e00739')\"\n",
              "              title=\"Convert this dataframe to an interactive table.\"\n",
              "              style=\"display:none;\">\n",
              "        \n",
              "  <svg xmlns=\"http://www.w3.org/2000/svg\" height=\"24px\"viewBox=\"0 0 24 24\"\n",
              "       width=\"24px\">\n",
              "    <path d=\"M0 0h24v24H0V0z\" fill=\"none\"/>\n",
              "    <path d=\"M18.56 5.44l.94 2.06.94-2.06 2.06-.94-2.06-.94-.94-2.06-.94 2.06-2.06.94zm-11 1L8.5 8.5l.94-2.06 2.06-.94-2.06-.94L8.5 2.5l-.94 2.06-2.06.94zm10 10l.94 2.06.94-2.06 2.06-.94-2.06-.94-.94-2.06-.94 2.06-2.06.94z\"/><path d=\"M17.41 7.96l-1.37-1.37c-.4-.4-.92-.59-1.43-.59-.52 0-1.04.2-1.43.59L10.3 9.45l-7.72 7.72c-.78.78-.78 2.05 0 2.83L4 21.41c.39.39.9.59 1.41.59.51 0 1.02-.2 1.41-.59l7.78-7.78 2.81-2.81c.8-.78.8-2.07 0-2.86zM5.41 20L4 18.59l7.72-7.72 1.47 1.35L5.41 20z\"/>\n",
              "  </svg>\n",
              "      </button>\n",
              "      \n",
              "  <style>\n",
              "    .colab-df-container {\n",
              "      display:flex;\n",
              "      flex-wrap:wrap;\n",
              "      gap: 12px;\n",
              "    }\n",
              "\n",
              "    .colab-df-convert {\n",
              "      background-color: #E8F0FE;\n",
              "      border: none;\n",
              "      border-radius: 50%;\n",
              "      cursor: pointer;\n",
              "      display: none;\n",
              "      fill: #1967D2;\n",
              "      height: 32px;\n",
              "      padding: 0 0 0 0;\n",
              "      width: 32px;\n",
              "    }\n",
              "\n",
              "    .colab-df-convert:hover {\n",
              "      background-color: #E2EBFA;\n",
              "      box-shadow: 0px 1px 2px rgba(60, 64, 67, 0.3), 0px 1px 3px 1px rgba(60, 64, 67, 0.15);\n",
              "      fill: #174EA6;\n",
              "    }\n",
              "\n",
              "    [theme=dark] .colab-df-convert {\n",
              "      background-color: #3B4455;\n",
              "      fill: #D2E3FC;\n",
              "    }\n",
              "\n",
              "    [theme=dark] .colab-df-convert:hover {\n",
              "      background-color: #434B5C;\n",
              "      box-shadow: 0px 1px 3px 1px rgba(0, 0, 0, 0.15);\n",
              "      filter: drop-shadow(0px 1px 2px rgba(0, 0, 0, 0.3));\n",
              "      fill: #FFFFFF;\n",
              "    }\n",
              "  </style>\n",
              "\n",
              "      <script>\n",
              "        const buttonEl =\n",
              "          document.querySelector('#df-0b71ef48-48b8-4a60-a478-f43e08e00739 button.colab-df-convert');\n",
              "        buttonEl.style.display =\n",
              "          google.colab.kernel.accessAllowed ? 'block' : 'none';\n",
              "\n",
              "        async function convertToInteractive(key) {\n",
              "          const element = document.querySelector('#df-0b71ef48-48b8-4a60-a478-f43e08e00739');\n",
              "          const dataTable =\n",
              "            await google.colab.kernel.invokeFunction('convertToInteractive',\n",
              "                                                     [key], {});\n",
              "          if (!dataTable) return;\n",
              "\n",
              "          const docLinkHtml = 'Like what you see? Visit the ' +\n",
              "            '<a target=\"_blank\" href=https://colab.research.google.com/notebooks/data_table.ipynb>data table notebook</a>'\n",
              "            + ' to learn more about interactive tables.';\n",
              "          element.innerHTML = '';\n",
              "          dataTable['output_type'] = 'display_data';\n",
              "          await google.colab.output.renderOutput(dataTable, element);\n",
              "          const docLink = document.createElement('div');\n",
              "          docLink.innerHTML = docLinkHtml;\n",
              "          element.appendChild(docLink);\n",
              "        }\n",
              "      </script>\n",
              "    </div>\n",
              "  </div>\n",
              "  "
            ]
          },
          "metadata": {},
          "execution_count": 96
        }
      ]
    },
    {
      "cell_type": "code",
      "source": [
        "# 로지스틱 모델 만들기\n",
        "model = smf.logit(\"Species ~  Petal_Length + Petal_Width\", data=df_subset)\n",
        "result = model.fit()\n",
        "print(result.summary())"
      ],
      "metadata": {
        "colab": {
          "base_uri": "https://localhost:8080/"
        },
        "id": "NHlDUGz69TDQ",
        "outputId": "8e30d42f-2a0c-4c13-b3f5-c0765f57ef93"
      },
      "execution_count": 97,
      "outputs": [
        {
          "output_type": "stream",
          "name": "stdout",
          "text": [
            "Optimization terminated successfully.\n",
            "         Current function value: 0.102818\n",
            "         Iterations 10\n",
            "                           Logit Regression Results                           \n",
            "==============================================================================\n",
            "Dep. Variable:                Species   No. Observations:                  100\n",
            "Model:                          Logit   Df Residuals:                       97\n",
            "Method:                           MLE   Df Model:                            2\n",
            "Date:                Mon, 08 Aug 2022   Pseudo R-squ.:                  0.8517\n",
            "Time:                        04:25:02   Log-Likelihood:                -10.282\n",
            "converged:                       True   LL-Null:                       -69.315\n",
            "Covariance Type:            nonrobust   LLR p-value:                 2.303e-26\n",
            "================================================================================\n",
            "                   coef    std err          z      P>|z|      [0.025      0.975]\n",
            "--------------------------------------------------------------------------------\n",
            "Intercept       45.2723     13.612      3.326      0.001      18.594      71.951\n",
            "Petal_Length    -5.7545      2.306     -2.496      0.013     -10.274      -1.235\n",
            "Petal_Width    -10.4467      3.756     -2.782      0.005     -17.808      -3.086\n",
            "================================================================================\n",
            "\n",
            "Possibly complete quasi-separation: A fraction 0.34 of observations can be\n",
            "perfectly predicted. This might indicate that there is complete\n",
            "quasi-separation. In this case some parameters will not be identified.\n"
          ]
        }
      ]
    },
    {
      "cell_type": "code",
      "source": [
        "print(result.get_margeff().summary()) # 모델에서의 각 설명 변수의 한계 영향에 대한 정보 출력"
      ],
      "metadata": {
        "colab": {
          "base_uri": "https://localhost:8080/"
        },
        "id": "44lsm2VQ9wwL",
        "outputId": "70378c1e-9aa5-419f-dd2d-69b3a4c2745a"
      },
      "execution_count": 98,
      "outputs": [
        {
          "output_type": "stream",
          "name": "stdout",
          "text": [
            "        Logit Marginal Effects       \n",
            "=====================================\n",
            "Dep. Variable:                Species\n",
            "Method:                          dydx\n",
            "At:                           overall\n",
            "================================================================================\n",
            "                  dy/dx    std err          z      P>|z|      [0.025      0.975]\n",
            "--------------------------------------------------------------------------------\n",
            "Petal_Length    -0.1736      0.052     -3.347      0.001      -0.275      -0.072\n",
            "Petal_Width     -0.3151      0.068     -4.608      0.000      -0.449      -0.181\n",
            "================================================================================\n"
          ]
        }
      ]
    },
    {
      "cell_type": "code",
      "source": [
        "# 예측하기\n",
        "df_new = pd.DataFrame({\"Petal_Length\": np.random.randn(20)*0.5 + 5,\n",
        "                       \"Petal_Width\": np.random.randn(20)*0.5 + 1.7})\n",
        "df_new[\"P-Species\"] = result.predict(df_new)\n",
        "df_new[\"P-Species\"].head(3)"
      ],
      "metadata": {
        "colab": {
          "base_uri": "https://localhost:8080/"
        },
        "id": "TTGz5gPA981Q",
        "outputId": "acc5c14f-6090-47d7-9ec9-7905f16131c3"
      },
      "execution_count": 99,
      "outputs": [
        {
          "output_type": "execute_result",
          "data": {
            "text/plain": [
              "0    0.979752\n",
              "1    0.054292\n",
              "2    0.659564\n",
              "Name: P-Species, dtype: float64"
            ]
          },
          "metadata": {},
          "execution_count": 99
        }
      ]
    },
    {
      "cell_type": "code",
      "source": [
        "df_new[\"Species\"] = (df_new[\"P-Species\"] > 0.5).astype(int) # 임곗값 0.5"
      ],
      "metadata": {
        "id": "dBC950fh-Q8t"
      },
      "execution_count": 100,
      "outputs": []
    },
    {
      "cell_type": "code",
      "source": [
        "params = result.params # 모델의 매개변수 얻기\n",
        "alpha0 = -params['Intercept']/params['Petal_Width']\n",
        "alpha1 = -params['Petal_Length']/params['Petal_Width']"
      ],
      "metadata": {
        "id": "-t2F9fRR-aiA"
      },
      "execution_count": 101,
      "outputs": []
    },
    {
      "cell_type": "code",
      "source": [
        "# 꽃잎의 길이와 너비를 독립 변수로 해 아이리스 종을 로직 회귀를 사용해 분류한 결과\n",
        "fig, ax = plt.subplots(1, 1, figsize=(8, 4))\n",
        "  # virginica 종\n",
        "ax.plot(df_subset[df_subset.Species == 0].Petal_Length.values,\n",
        "        df_subset[df_subset.Species == 0].Petal_Width.values, 's', label='virginica')\n",
        "ax.plot(df_new[df_new.Species == 0].Petal_Length.values,\n",
        "        df_new[df_new.Species == 0].Petal_Width.values,\n",
        "        'o', markersize=10, color=\"steelblue\", label='virginica (pred.)')\n",
        "  # versicolor 종\n",
        "ax.plot(df_subset[df_subset.Species == 1].Petal_Length.values,\n",
        "        df_subset[df_subset.Species == 1].Petal_Width.values, 's', label='versicolor')\n",
        "ax.plot(df_new[df_new.Species == 1].Petal_Length.values,\n",
        "        df_new[df_new.Species == 1].Petal_Width.values,\n",
        "        'o', markersize=10, color=\"green\", label='versicolor (pred.)')\n",
        "\n",
        "_x = np.array([4.0, 6.1])\n",
        "ax.plot(_x, alpha0 + alpha1 * _x, 'k')\n",
        "\n",
        "ax.set_xlabel('Petal length')\n",
        "ax.set_ylabel('Petal width')\n",
        "ax.legend(loc=2)\n",
        "fig.tight_layout()"
      ],
      "metadata": {
        "colab": {
          "base_uri": "https://localhost:8080/",
          "height": 297
        },
        "id": "dlwwlrCg-yw9",
        "outputId": "e5b2c2ec-e092-46ca-8f18-b916a94db36a"
      },
      "execution_count": 102,
      "outputs": [
        {
          "output_type": "display_data",
          "data": {
            "text/plain": [
              "<Figure size 576x288 with 1 Axes>"
            ],
            "image/png": "[encoded data removed]"
          },
          "metadata": {
            "needs_background": "light"
          }
        }
      ]
    },
    {
      "cell_type": "markdown",
      "source": [
        "## 푸아송 모델\n",
        "이산 회귀의 또 다른 예로 낮은 성공 확률을 가진 다수의 시도 중 성공한 횟수를 반응 변수로 가진 모델을 기술하는 프로세스"
      ],
      "metadata": {
        "id": "l6MLKt0A_L-2"
      }
    },
    {
      "cell_type": "code",
      "source": [
        "dataset = sm.datasets.get_rdataset(\"discoveries\")\n",
        "df = dataset.data.set_index(\"time\").rename(columns={\"value\": \"discoveries\"}) # 위대한 발견의 수\n",
        "df.head(10).T"
      ],
      "metadata": {
        "id": "u_iNp-ay-_uR",
        "colab": {
          "base_uri": "https://localhost:8080/",
          "height": 81
        },
        "outputId": "ac771bf3-1ed7-419b-c722-ab064121ead3"
      },
      "execution_count": 103,
      "outputs": [
        {
          "output_type": "execute_result",
          "data": {
            "text/plain": [
              "time         1860  1861  1862  1863  1864  1865  1866  1867  1868  1869\n",
              "discoveries     5     3     0     2     0     3     2     3     6     1"
            ],
            "text/html": [
              "\n",
              "  <div id=\"df-f1ce0127-bb62-4d91-b4f1-e50bc238a6f9\">\n",
              "    <div class=\"colab-df-container\">\n",
              "      <div>\n",
              "<style scoped>\n",
              "    .dataframe tbody tr th:only-of-type {\n",
              "        vertical-align: middle;\n",
              "    }\n",
              "\n",
              "    .dataframe tbody tr th {\n",
              "        vertical-align: top;\n",
              "    }\n",
              "\n",
              "    .dataframe thead th {\n",
              "        text-align: right;\n",
              "    }\n",
              "</style>\n",
              "<table border=\"1\" class=\"dataframe\">\n",
              "  <thead>\n",
              "    <tr style=\"text-align: right;\">\n",
              "      <th>time</th>\n",
              "      <th>1860</th>\n",
              "      <th>1861</th>\n",
              "      <th>1862</th>\n",
              "      <th>1863</th>\n",
              "      <th>1864</th>\n",
              "      <th>1865</th>\n",
              "      <th>1866</th>\n",
              "      <th>1867</th>\n",
              "      <th>1868</th>\n",
              "      <th>1869</th>\n",
              "    </tr>\n",
              "  </thead>\n",
              "  <tbody>\n",
              "    <tr>\n",
              "      <th>discoveries</th>\n",
              "      <td>5</td>\n",
              "      <td>3</td>\n",
              "      <td>0</td>\n",
              "      <td>2</td>\n",
              "      <td>0</td>\n",
              "      <td>3</td>\n",
              "      <td>2</td>\n",
              "      <td>3</td>\n",
              "      <td>6</td>\n",
              "      <td>1</td>\n",
              "    </tr>\n",
              "  </tbody>\n",
              "</table>\n",
              "</div>\n",
              "      <button class=\"colab-df-convert\" onclick=\"convertToInteractive('df-f1ce0127-bb62-4d91-b4f1-e50bc238a6f9')\"\n",
              "              title=\"Convert this dataframe to an interactive table.\"\n",
              "              style=\"display:none;\">\n",
              "        \n",
              "  <svg xmlns=\"http://www.w3.org/2000/svg\" height=\"24px\"viewBox=\"0 0 24 24\"\n",
              "       width=\"24px\">\n",
              "    <path d=\"M0 0h24v24H0V0z\" fill=\"none\"/>\n",
              "    <path d=\"M18.56 5.44l.94 2.06.94-2.06 2.06-.94-2.06-.94-.94-2.06-.94 2.06-2.06.94zm-11 1L8.5 8.5l.94-2.06 2.06-.94-2.06-.94L8.5 2.5l-.94 2.06-2.06.94zm10 10l.94 2.06.94-2.06 2.06-.94-2.06-.94-.94-2.06-.94 2.06-2.06.94z\"/><path d=\"M17.41 7.96l-1.37-1.37c-.4-.4-.92-.59-1.43-.59-.52 0-1.04.2-1.43.59L10.3 9.45l-7.72 7.72c-.78.78-.78 2.05 0 2.83L4 21.41c.39.39.9.59 1.41.59.51 0 1.02-.2 1.41-.59l7.78-7.78 2.81-2.81c.8-.78.8-2.07 0-2.86zM5.41 20L4 18.59l7.72-7.72 1.47 1.35L5.41 20z\"/>\n",
              "  </svg>\n",
              "      </button>\n",
              "      \n",
              "  <style>\n",
              "    .colab-df-container {\n",
              "      display:flex;\n",
              "      flex-wrap:wrap;\n",
              "      gap: 12px;\n",
              "    }\n",
              "\n",
              "    .colab-df-convert {\n",
              "      background-color: #E8F0FE;\n",
              "      border: none;\n",
              "      border-radius: 50%;\n",
              "      cursor: pointer;\n",
              "      display: none;\n",
              "      fill: #1967D2;\n",
              "      height: 32px;\n",
              "      padding: 0 0 0 0;\n",
              "      width: 32px;\n",
              "    }\n",
              "\n",
              "    .colab-df-convert:hover {\n",
              "      background-color: #E2EBFA;\n",
              "      box-shadow: 0px 1px 2px rgba(60, 64, 67, 0.3), 0px 1px 3px 1px rgba(60, 64, 67, 0.15);\n",
              "      fill: #174EA6;\n",
              "    }\n",
              "\n",
              "    [theme=dark] .colab-df-convert {\n",
              "      background-color: #3B4455;\n",
              "      fill: #D2E3FC;\n",
              "    }\n",
              "\n",
              "    [theme=dark] .colab-df-convert:hover {\n",
              "      background-color: #434B5C;\n",
              "      box-shadow: 0px 1px 3px 1px rgba(0, 0, 0, 0.15);\n",
              "      filter: drop-shadow(0px 1px 2px rgba(0, 0, 0, 0.3));\n",
              "      fill: #FFFFFF;\n",
              "    }\n",
              "  </style>\n",
              "\n",
              "      <script>\n",
              "        const buttonEl =\n",
              "          document.querySelector('#df-f1ce0127-bb62-4d91-b4f1-e50bc238a6f9 button.colab-df-convert');\n",
              "        buttonEl.style.display =\n",
              "          google.colab.kernel.accessAllowed ? 'block' : 'none';\n",
              "\n",
              "        async function convertToInteractive(key) {\n",
              "          const element = document.querySelector('#df-f1ce0127-bb62-4d91-b4f1-e50bc238a6f9');\n",
              "          const dataTable =\n",
              "            await google.colab.kernel.invokeFunction('convertToInteractive',\n",
              "                                                     [key], {});\n",
              "          if (!dataTable) return;\n",
              "\n",
              "          const docLinkHtml = 'Like what you see? Visit the ' +\n",
              "            '<a target=\"_blank\" href=https://colab.research.google.com/notebooks/data_table.ipynb>data table notebook</a>'\n",
              "            + ' to learn more about interactive tables.';\n",
              "          element.innerHTML = '';\n",
              "          dataTable['output_type'] = 'display_data';\n",
              "          await google.colab.output.renderOutput(dataTable, element);\n",
              "          const docLink = document.createElement('div');\n",
              "          docLink.innerHTML = docLinkHtml;\n",
              "          element.appendChild(docLink);\n",
              "        }\n",
              "      </script>\n",
              "    </div>\n",
              "  </div>\n",
              "  "
            ]
          },
          "metadata": {},
          "execution_count": 103
        }
      ]
    },
    {
      "cell_type": "code",
      "source": [
        "# 연간 발견 개수 막대그래프\n",
        "fig, ax = plt.subplots(1, 1, figsize=(16, 4))\n",
        "df.plot(kind='bar', ax=ax)\n",
        "fig.tight_layout()"
      ],
      "metadata": {
        "colab": {
          "base_uri": "https://localhost:8080/",
          "height": 297
        },
        "id": "9RTVqu99vkbI",
        "outputId": "3a683682-b42f-4c66-e1bf-41e9eb930482"
      },
      "execution_count": 104,
      "outputs": [
        {
          "output_type": "display_data",
          "data": {
            "text/plain": [
              "<Figure size 1152x288 with 1 Axes>"
            ],
            "image/png": "[encoded data removed]"
          },
          "metadata": {
            "needs_background": "light"
          }
        }
      ]
    },
    {
      "cell_type": "code",
      "source": [
        "# Pasty 공식을 사용해 데이터를 푸아송 프로세스에 적합화하기\n",
        "model = smf.poisson(\"discoveries ~ 1\", data=df)\n",
        "result = model.fit()\n",
        "print(result.summary())"
      ],
      "metadata": {
        "colab": {
          "base_uri": "https://localhost:8080/"
        },
        "id": "XpjosW1YvtkW",
        "outputId": "14ab3f3f-e27e-4bd5-870d-547b7b579738"
      },
      "execution_count": 105,
      "outputs": [
        {
          "output_type": "stream",
          "name": "stdout",
          "text": [
            "Optimization terminated successfully.\n",
            "         Current function value: 2.168457\n",
            "         Iterations 1\n",
            "                          Poisson Regression Results                          \n",
            "==============================================================================\n",
            "Dep. Variable:            discoveries   No. Observations:                  100\n",
            "Model:                        Poisson   Df Residuals:                       99\n",
            "Method:                           MLE   Df Model:                            0\n",
            "Date:                Mon, 08 Aug 2022   Pseudo R-squ.:                   0.000\n",
            "Time:                        04:39:38   Log-Likelihood:                -216.85\n",
            "converged:                       True   LL-Null:                       -216.85\n",
            "Covariance Type:            nonrobust   LLR p-value:                       nan\n",
            "==============================================================================\n",
            "                 coef    std err          z      P>|z|      [0.025      0.975]\n",
            "------------------------------------------------------------------------------\n",
            "Intercept      1.1314      0.057     19.920      0.000       1.020       1.243\n",
            "==============================================================================\n"
          ]
        }
      ]
    },
    {
      "cell_type": "code",
      "source": [
        "# params 속성을 통해 알 수 있는 모델 매개변수는 지수 함수를 통한 푸아송 분포의 매개변수와 연계\n",
        "lmbda = np.exp(result.params) "
      ],
      "metadata": {
        "id": "gDAE0mEQwFIl"
      },
      "execution_count": 106,
      "outputs": []
    },
    {
      "cell_type": "code",
      "source": [
        "X = stats.poisson(lmbda)\n",
        "# 매개 변수의 추정 신뢰 구간 구하기\n",
        "result.conf_int() "
      ],
      "metadata": {
        "colab": {
          "base_uri": "https://localhost:8080/",
          "height": 81
        },
        "id": "sD-zNk1lwUx5",
        "outputId": "1dad64e4-c067-46aa-9c91-8f92b4160673"
      },
      "execution_count": 107,
      "outputs": [
        {
          "output_type": "execute_result",
          "data": {
            "text/plain": [
              "                  0         1\n",
              "Intercept  1.020084  1.242721"
            ],
            "text/html": [
              "\n",
              "  <div id=\"df-2f7e5d61-fd2c-453a-88b2-c3548c7002cd\">\n",
              "    <div class=\"colab-df-container\">\n",
              "      <div>\n",
              "<style scoped>\n",
              "    .dataframe tbody tr th:only-of-type {\n",
              "        vertical-align: middle;\n",
              "    }\n",
              "\n",
              "    .dataframe tbody tr th {\n",
              "        vertical-align: top;\n",
              "    }\n",
              "\n",
              "    .dataframe thead th {\n",
              "        text-align: right;\n",
              "    }\n",
              "</style>\n",
              "<table border=\"1\" class=\"dataframe\">\n",
              "  <thead>\n",
              "    <tr style=\"text-align: right;\">\n",
              "      <th></th>\n",
              "      <th>0</th>\n",
              "      <th>1</th>\n",
              "    </tr>\n",
              "  </thead>\n",
              "  <tbody>\n",
              "    <tr>\n",
              "      <th>Intercept</th>\n",
              "      <td>1.020084</td>\n",
              "      <td>1.242721</td>\n",
              "    </tr>\n",
              "  </tbody>\n",
              "</table>\n",
              "</div>\n",
              "      <button class=\"colab-df-convert\" onclick=\"convertToInteractive('df-2f7e5d61-fd2c-453a-88b2-c3548c7002cd')\"\n",
              "              title=\"Convert this dataframe to an interactive table.\"\n",
              "              style=\"display:none;\">\n",
              "        \n",
              "  <svg xmlns=\"http://www.w3.org/2000/svg\" height=\"24px\"viewBox=\"0 0 24 24\"\n",
              "       width=\"24px\">\n",
              "    <path d=\"M0 0h24v24H0V0z\" fill=\"none\"/>\n",
              "    <path d=\"M18.56 5.44l.94 2.06.94-2.06 2.06-.94-2.06-.94-.94-2.06-.94 2.06-2.06.94zm-11 1L8.5 8.5l.94-2.06 2.06-.94-2.06-.94L8.5 2.5l-.94 2.06-2.06.94zm10 10l.94 2.06.94-2.06 2.06-.94-2.06-.94-.94-2.06-.94 2.06-2.06.94z\"/><path d=\"M17.41 7.96l-1.37-1.37c-.4-.4-.92-.59-1.43-.59-.52 0-1.04.2-1.43.59L10.3 9.45l-7.72 7.72c-.78.78-.78 2.05 0 2.83L4 21.41c.39.39.9.59 1.41.59.51 0 1.02-.2 1.41-.59l7.78-7.78 2.81-2.81c.8-.78.8-2.07 0-2.86zM5.41 20L4 18.59l7.72-7.72 1.47 1.35L5.41 20z\"/>\n",
              "  </svg>\n",
              "      </button>\n",
              "      \n",
              "  <style>\n",
              "    .colab-df-container {\n",
              "      display:flex;\n",
              "      flex-wrap:wrap;\n",
              "      gap: 12px;\n",
              "    }\n",
              "\n",
              "    .colab-df-convert {\n",
              "      background-color: #E8F0FE;\n",
              "      border: none;\n",
              "      border-radius: 50%;\n",
              "      cursor: pointer;\n",
              "      display: none;\n",
              "      fill: #1967D2;\n",
              "      height: 32px;\n",
              "      padding: 0 0 0 0;\n",
              "      width: 32px;\n",
              "    }\n",
              "\n",
              "    .colab-df-convert:hover {\n",
              "      background-color: #E2EBFA;\n",
              "      box-shadow: 0px 1px 2px rgba(60, 64, 67, 0.3), 0px 1px 3px 1px rgba(60, 64, 67, 0.15);\n",
              "      fill: #174EA6;\n",
              "    }\n",
              "\n",
              "    [theme=dark] .colab-df-convert {\n",
              "      background-color: #3B4455;\n",
              "      fill: #D2E3FC;\n",
              "    }\n",
              "\n",
              "    [theme=dark] .colab-df-convert:hover {\n",
              "      background-color: #434B5C;\n",
              "      box-shadow: 0px 1px 3px 1px rgba(0, 0, 0, 0.15);\n",
              "      filter: drop-shadow(0px 1px 2px rgba(0, 0, 0, 0.3));\n",
              "      fill: #FFFFFF;\n",
              "    }\n",
              "  </style>\n",
              "\n",
              "      <script>\n",
              "        const buttonEl =\n",
              "          document.querySelector('#df-2f7e5d61-fd2c-453a-88b2-c3548c7002cd button.colab-df-convert');\n",
              "        buttonEl.style.display =\n",
              "          google.colab.kernel.accessAllowed ? 'block' : 'none';\n",
              "\n",
              "        async function convertToInteractive(key) {\n",
              "          const element = document.querySelector('#df-2f7e5d61-fd2c-453a-88b2-c3548c7002cd');\n",
              "          const dataTable =\n",
              "            await google.colab.kernel.invokeFunction('convertToInteractive',\n",
              "                                                     [key], {});\n",
              "          if (!dataTable) return;\n",
              "\n",
              "          const docLinkHtml = 'Like what you see? Visit the ' +\n",
              "            '<a target=\"_blank\" href=https://colab.research.google.com/notebooks/data_table.ipynb>data table notebook</a>'\n",
              "            + ' to learn more about interactive tables.';\n",
              "          element.innerHTML = '';\n",
              "          dataTable['output_type'] = 'display_data';\n",
              "          await google.colab.output.renderOutput(dataTable, element);\n",
              "          const docLink = document.createElement('div');\n",
              "          docLink.innerHTML = docLinkHtml;\n",
              "          element.appendChild(docLink);\n",
              "        }\n",
              "      </script>\n",
              "    </div>\n",
              "  </div>\n",
              "  "
            ]
          },
          "metadata": {},
          "execution_count": 107
        }
      ]
    },
    {
      "cell_type": "code",
      "source": [
        "# 데이터의 적합성 평가를 위해 모델 매개변수 신뢰 구간의 하한과 상한에 대한 확률 변수 생성\n",
        "X_ci_l = stats.poisson(np.exp(result.conf_int().values)[0, 0])\n",
        "X_ci_u = stats.poisson(np.exp(result.conf_int().values)[0, 1])"
      ],
      "metadata": {
        "id": "jW6De7ZawxEf"
      },
      "execution_count": 108,
      "outputs": []
    },
    {
      "cell_type": "code",
      "source": [
        "# 연간 위대한 발견 개수의 히스토그램과 적합화된 푸아송 모델의 확률 질량 함수의 비교\n",
        "v, k = np.histogram(df.values, bins=12, range=(0, 12), normed=True)\n",
        "fig, ax = plt.subplots(1, 1, figsize=(12, 4))\n",
        "ax.bar(k[:-1], v, color=\"steelblue\",  align='center', label='Dicoveries per year') \n",
        "ax.bar(k-0.125, X_ci_l.pmf(k), color=\"red\", alpha=0.5, align='center', width=0.25, label='Poisson fit (CI, lower)')\n",
        "ax.bar(k, X.pmf(k), color=\"green\",  align='center', width=0.5, label='Poisson fit')\n",
        "ax.bar(k+0.125, X_ci_u.pmf(k), color=\"red\",  alpha=0.5, align='center', width=0.25, label='Poisson fit (CI, upper)')\n",
        "\n",
        "ax.legend()\n",
        "fig.tight_layout()"
      ],
      "metadata": {
        "colab": {
          "base_uri": "https://localhost:8080/",
          "height": 354
        },
        "id": "OxIU3qA8w8gX",
        "outputId": "0ab79b02-9054-49ba-9b7b-9dfea69bfcb2"
      },
      "execution_count": 109,
      "outputs": [
        {
          "output_type": "stream",
          "name": "stderr",
          "text": [
            "/usr/local/lib/python3.7/dist-packages/ipykernel_launcher.py:2: VisibleDeprecationWarning: Passing `normed=True` on non-uniform bins has always been broken, and computes neither the probability density function nor the probability mass function. The result is only correct if the bins are uniform, when density=True will produce the same result anyway. The argument will be removed in a future version of numpy.\n",
            "  \n"
          ]
        },
        {
          "output_type": "display_data",
          "data": {
            "text/plain": [
              "<Figure size 864x288 with 1 Axes>"
            ],
            "image/png": "[encoded data removed]"
          },
          "metadata": {
            "needs_background": "light"
          }
        }
      ]
    },
    {
      "cell_type": "markdown",
      "source": [
        "위의 결과를 보면 푸아송 확률 질량 함수와 관측된 수는 서로 현저하게 벗어나므로 위대한 발견 데이터셋은 푸아송 프로세스로 잘 설명되지 않음    \n",
        "-> 특정 연도의 발견 수와 근접한 과거의 발견 수 사이에는 상관 관계가 있기 때문    \n",
        "-> 시계열 분석이 나을 수도 있음\n",
        "\n",
        "## 시계열\n",
        "시간의 함수로 관측된 데이터의 미래 값을 분석하고 예측하는 통계 모델량의 중요한 분야"
      ],
      "metadata": {
        "id": "iORVCSAcxX_J"
      }
    },
    {
      "cell_type": "code",
      "source": [
        "# 3월 한달 간 측정한 온도를 바탕으로 4월의 첫 3일간 시간별 온도 예측하기\n",
        "df = pd.read_csv(\"temperature_outdoor_2014.tsv\", header=None, delimiter=\"\\t\", names=[\"time\", \"temp\"])\n",
        "df.time = pd.to_datetime(df.time, unit=\"s\")\n",
        "df = df.set_index(\"time\").resample(\"H\").mean()"
      ],
      "metadata": {
        "id": "7jL-wrUoxGy8"
      },
      "execution_count": 110,
      "outputs": []
    },
    {
      "cell_type": "code",
      "source": [
        "df_march = df[df.index.month == 3] # 3월 관측값\n",
        "df_april = df[df.index.month == 4] # 4월 관측값"
      ],
      "metadata": {
        "id": "V014p5qS0YDd"
      },
      "execution_count": 111,
      "outputs": []
    },
    {
      "cell_type": "code",
      "source": [
        "# 좌에서 우로 차분을 증가시켜 가면서 기온 데이터의 자기 상관 함수를 그림\n",
        "fig, axes = plt.subplots(1, 4, figsize=(12, 3))\n",
        "smg.tsa.plot_acf(df_march.temp, lags=72, ax=axes[0])\n",
        "smg.tsa.plot_acf(df_march.temp.diff().dropna(), lags=72, ax=axes[1])\n",
        "smg.tsa.plot_acf(df_march.temp.diff().diff().dropna(), lags=72, ax=axes[2])\n",
        "smg.tsa.plot_acf(df_march.temp.diff().diff().diff().dropna(), lags=72, ax=axes[3])\n",
        "fig.tight_layout()"
      ],
      "metadata": {
        "colab": {
          "base_uri": "https://localhost:8080/",
          "height": 225
        },
        "id": "1rUAcIrm0ia1",
        "outputId": "ec4bf31d-613f-4e74-b31f-c80c22813a7a"
      },
      "execution_count": 113,
      "outputs": [
        {
          "output_type": "display_data",
          "data": {
            "text/plain": [
              "<Figure size 864x216 with 4 Axes>"
            ],
            "image/png": "[encoded data removed]"
          },
          "metadata": {
            "needs_background": "light"
          }
        }
      ]
    },
    {
      "cell_type": "markdown",
      "source": [
        "위의 그림 결과 차수가 증가되면 사계열 차분은 자기 상관 관계를 크게 감소시킴"
      ],
      "metadata": {
        "id": "q8iwTE860_rn"
      }
    },
    {
      "cell_type": "code",
      "source": [
        "# 시계열용 AR 모델 만들기\n",
        "model = sm.tsa.AR(df_march.temp)\n",
        "result = model.fit(72) # 3일간 -> 72시간\n",
        "sm.stats.durbin_watson(result.resid) # 정상 상태 여부를 알아보는데 사용 -> 2에 가까우면 자기 상관 관계가 없다는 뜻"
      ],
      "metadata": {
        "colab": {
          "base_uri": "https://localhost:8080/"
        },
        "id": "_XdvozWQ0w-1",
        "outputId": "cca90237-3b29-464c-e0c0-50c892c40e98"
      },
      "execution_count": 114,
      "outputs": [
        {
          "output_type": "execute_result",
          "data": {
            "text/plain": [
              "1.998562300635301"
            ]
          },
          "metadata": {},
          "execution_count": 114
        }
      ]
    },
    {
      "cell_type": "code",
      "source": [
        "# 기온 관측값 AR 모델의 잔차의 자기 상관 관계 그래프\n",
        "fig, ax = plt.subplots(1, 1, figsize=(8, 3))\n",
        "smg.tsa.plot_acf(result.resid, lags=72, ax=ax)\n",
        "fig.tight_layout()"
      ],
      "metadata": {
        "colab": {
          "base_uri": "https://localhost:8080/",
          "height": 225
        },
        "id": "wat7ESPy1pZN",
        "outputId": "400847ee-ebca-4e24-d758-5f4c53139a5a"
      },
      "execution_count": 115,
      "outputs": [
        {
          "output_type": "display_data",
          "data": {
            "text/plain": [
              "<Figure size 576x216 with 1 Axes>"
            ],
            "image/png": "[encoded data removed]"
          },
          "metadata": {
            "needs_background": "light"
          }
        }
      ]
    },
    {
      "cell_type": "markdown",
      "source": [
        "더빈-왓슨 통계량은 2에 가깝고 위의 그래프의 결과 자기 상관이 없으므로 적합화된 데이터를 성공적으로 설명함"
      ],
      "metadata": {
        "id": "OUY4CdgD19CQ"
      }
    },
    {
      "cell_type": "code",
      "source": [
        "# 미래 날짜 기온 예측하기\n",
        "# 녹색 : 실제\n",
        "# 빨간색: 예측\n",
        "temp_3d_forecast = result.predict(\"2014-04-01\", \"2014-04-4\")\n",
        "fig, ax = plt.subplots(1, 1, figsize=(12, 4))\n",
        "ax.plot(df_march.index.values[-72:], df_march.temp.values[-72:], label=\"train data\")\n",
        "ax.plot(df_april.index.values[:72], df_april.temp.values[:72], label=\"actual outcome\")\n",
        "ax.plot(pd.date_range(\"2014-04-01\", \"2014-04-4\", freq=\"H\").values,\n",
        "        result.predict(\"2014-04-01\", \"2014-04-4\"), label=\"predicted outcome\")\n",
        "\n",
        "ax.legend()\n",
        "fig.tight_layout()"
      ],
      "metadata": {
        "colab": {
          "base_uri": "https://localhost:8080/",
          "height": 297
        },
        "id": "p0criGTw1wj9",
        "outputId": "13c4c83d-03d1-4d70-de74-301508563dd5"
      },
      "execution_count": 116,
      "outputs": [
        {
          "output_type": "display_data",
          "data": {
            "text/plain": [
              "<Figure size 864x288 with 1 Axes>"
            ],
            "image/png": "[encoded data removed]"
          },
          "metadata": {
            "needs_background": "light"
          }
        }
      ]
    },
    {
      "cell_type": "code",
      "source": [
        ""
      ],
      "metadata": {
        "id": "0j3BH88q2Vxi"
      },
      "execution_count": null,
      "outputs": []
    }
  ]
}